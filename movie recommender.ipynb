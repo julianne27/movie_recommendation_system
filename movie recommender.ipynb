{
 "cells": [
  {
   "cell_type": "markdown",
   "id": "9102070e",
   "metadata": {},
   "source": [
    "# Movie Recommender"
   ]
  },
  {
   "cell_type": "code",
   "execution_count": 1,
   "id": "b65dfeef",
   "metadata": {},
   "outputs": [],
   "source": [
    "import pandas as pd"
   ]
  },
  {
   "cell_type": "markdown",
   "id": "59292082",
   "metadata": {},
   "source": [
    "## data paths"
   ]
  },
  {
   "cell_type": "code",
   "execution_count": 2,
   "id": "a7a04dac",
   "metadata": {},
   "outputs": [],
   "source": [
    "#data paths\n",
    "links_csv = \"data/links.csv\"\n",
    "ratings_csv = \"data/ratings.csv\"\n",
    "imdb_tsv = \"data/title.basics.tsv\"\n",
    "imdb_ratings_tsv = \"data/title.ratings.tsv\"\n",
    "tmdb_csv = \"data/tmdb_movies_data.csv\""
   ]
  },
  {
   "cell_type": "markdown",
   "id": "ce149130",
   "metadata": {},
   "source": [
    "## movie lens data"
   ]
  },
  {
   "cell_type": "code",
   "execution_count": 3,
   "id": "67d6b3f8",
   "metadata": {},
   "outputs": [],
   "source": [
    "#links.csv (imdb & tmdb ids)\n",
    "links_cols = ['movieLensID', 'IMDbID', 'TMDbID']\n",
    "links = pd.read_csv(links_csv, header=0, names=links_cols)"
   ]
  },
  {
   "cell_type": "code",
   "execution_count": 4,
   "id": "15466efc",
   "metadata": {},
   "outputs": [],
   "source": [
    "#change imdb id so it aligns with imdb data\n",
    "#imdb id must be tt, then 7 digits\n",
    "links['IMDbID'] = links['IMDbID'].apply(str)\n",
    "for i in links.index:\n",
    "    temp = links['IMDbID'][i]\n",
    "    while len(temp) < 7:\n",
    "        temp = \"0\" + temp\n",
    "    newID = \"tt\" + temp\n",
    "    links.at[i,'IMDbID'] = newID"
   ]
  },
  {
   "cell_type": "code",
   "execution_count": 5,
   "id": "bab1288d",
   "metadata": {},
   "outputs": [],
   "source": [
    "#change tmdb id from float to int\n",
    "links['TMDbID'] = links['TMDbID'].astype('Int64')"
   ]
  },
  {
   "cell_type": "code",
   "execution_count": 6,
   "id": "18b09dd1",
   "metadata": {},
   "outputs": [],
   "source": [
    "#ratings.csv (ratings info)\n",
    "ratings_cols = ['userID', 'movieLensID', 'rating', 'timestamp']\n",
    "ratings = pd.read_csv(ratings_csv, header=0, names=ratings_cols)\n",
    "ratings = ratings.drop('timestamp',axis=1)"
   ]
  },
  {
   "cell_type": "code",
   "execution_count": 7,
   "id": "8c964479",
   "metadata": {},
   "outputs": [
    {
     "data": {
      "text/html": [
       "<div>\n",
       "<style scoped>\n",
       "    .dataframe tbody tr th:only-of-type {\n",
       "        vertical-align: middle;\n",
       "    }\n",
       "\n",
       "    .dataframe tbody tr th {\n",
       "        vertical-align: top;\n",
       "    }\n",
       "\n",
       "    .dataframe thead th {\n",
       "        text-align: right;\n",
       "    }\n",
       "</style>\n",
       "<table border=\"1\" class=\"dataframe\">\n",
       "  <thead>\n",
       "    <tr style=\"text-align: right;\">\n",
       "      <th></th>\n",
       "      <th>movieLensID</th>\n",
       "      <th>IMDbID</th>\n",
       "      <th>TMDbID</th>\n",
       "    </tr>\n",
       "  </thead>\n",
       "  <tbody>\n",
       "    <tr>\n",
       "      <th>0</th>\n",
       "      <td>1</td>\n",
       "      <td>tt0114709</td>\n",
       "      <td>862</td>\n",
       "    </tr>\n",
       "    <tr>\n",
       "      <th>1</th>\n",
       "      <td>2</td>\n",
       "      <td>tt0113497</td>\n",
       "      <td>8844</td>\n",
       "    </tr>\n",
       "    <tr>\n",
       "      <th>2</th>\n",
       "      <td>3</td>\n",
       "      <td>tt0113228</td>\n",
       "      <td>15602</td>\n",
       "    </tr>\n",
       "    <tr>\n",
       "      <th>3</th>\n",
       "      <td>4</td>\n",
       "      <td>tt0114885</td>\n",
       "      <td>31357</td>\n",
       "    </tr>\n",
       "    <tr>\n",
       "      <th>4</th>\n",
       "      <td>5</td>\n",
       "      <td>tt0113041</td>\n",
       "      <td>11862</td>\n",
       "    </tr>\n",
       "  </tbody>\n",
       "</table>\n",
       "</div>"
      ],
      "text/plain": [
       "   movieLensID     IMDbID  TMDbID\n",
       "0            1  tt0114709     862\n",
       "1            2  tt0113497    8844\n",
       "2            3  tt0113228   15602\n",
       "3            4  tt0114885   31357\n",
       "4            5  tt0113041   11862"
      ]
     },
     "execution_count": 7,
     "metadata": {},
     "output_type": "execute_result"
    }
   ],
   "source": [
    "links.head()"
   ]
  },
  {
   "cell_type": "code",
   "execution_count": 8,
   "id": "edba8823",
   "metadata": {},
   "outputs": [
    {
     "data": {
      "text/html": [
       "<div>\n",
       "<style scoped>\n",
       "    .dataframe tbody tr th:only-of-type {\n",
       "        vertical-align: middle;\n",
       "    }\n",
       "\n",
       "    .dataframe tbody tr th {\n",
       "        vertical-align: top;\n",
       "    }\n",
       "\n",
       "    .dataframe thead th {\n",
       "        text-align: right;\n",
       "    }\n",
       "</style>\n",
       "<table border=\"1\" class=\"dataframe\">\n",
       "  <thead>\n",
       "    <tr style=\"text-align: right;\">\n",
       "      <th></th>\n",
       "      <th>userID</th>\n",
       "      <th>movieLensID</th>\n",
       "      <th>rating</th>\n",
       "    </tr>\n",
       "  </thead>\n",
       "  <tbody>\n",
       "    <tr>\n",
       "      <th>0</th>\n",
       "      <td>1</td>\n",
       "      <td>1</td>\n",
       "      <td>4.0</td>\n",
       "    </tr>\n",
       "    <tr>\n",
       "      <th>1</th>\n",
       "      <td>1</td>\n",
       "      <td>3</td>\n",
       "      <td>4.0</td>\n",
       "    </tr>\n",
       "    <tr>\n",
       "      <th>2</th>\n",
       "      <td>1</td>\n",
       "      <td>6</td>\n",
       "      <td>4.0</td>\n",
       "    </tr>\n",
       "    <tr>\n",
       "      <th>3</th>\n",
       "      <td>1</td>\n",
       "      <td>47</td>\n",
       "      <td>5.0</td>\n",
       "    </tr>\n",
       "    <tr>\n",
       "      <th>4</th>\n",
       "      <td>1</td>\n",
       "      <td>50</td>\n",
       "      <td>5.0</td>\n",
       "    </tr>\n",
       "  </tbody>\n",
       "</table>\n",
       "</div>"
      ],
      "text/plain": [
       "   userID  movieLensID  rating\n",
       "0       1            1     4.0\n",
       "1       1            3     4.0\n",
       "2       1            6     4.0\n",
       "3       1           47     5.0\n",
       "4       1           50     5.0"
      ]
     },
     "execution_count": 8,
     "metadata": {},
     "output_type": "execute_result"
    }
   ],
   "source": [
    "ratings.head()"
   ]
  },
  {
   "cell_type": "code",
   "execution_count": 9,
   "id": "e5d0a0df",
   "metadata": {},
   "outputs": [],
   "source": [
    "ratings_linked = pd.merge(ratings, links, on='movieLensID', how='inner')"
   ]
  },
  {
   "cell_type": "code",
   "execution_count": 10,
   "id": "5d62ec91",
   "metadata": {},
   "outputs": [
    {
     "data": {
      "text/html": [
       "<div>\n",
       "<style scoped>\n",
       "    .dataframe tbody tr th:only-of-type {\n",
       "        vertical-align: middle;\n",
       "    }\n",
       "\n",
       "    .dataframe tbody tr th {\n",
       "        vertical-align: top;\n",
       "    }\n",
       "\n",
       "    .dataframe thead th {\n",
       "        text-align: right;\n",
       "    }\n",
       "</style>\n",
       "<table border=\"1\" class=\"dataframe\">\n",
       "  <thead>\n",
       "    <tr style=\"text-align: right;\">\n",
       "      <th></th>\n",
       "      <th>userID</th>\n",
       "      <th>movieLensID</th>\n",
       "      <th>rating</th>\n",
       "      <th>IMDbID</th>\n",
       "      <th>TMDbID</th>\n",
       "    </tr>\n",
       "  </thead>\n",
       "  <tbody>\n",
       "    <tr>\n",
       "      <th>0</th>\n",
       "      <td>1</td>\n",
       "      <td>1</td>\n",
       "      <td>4.0</td>\n",
       "      <td>tt0114709</td>\n",
       "      <td>862</td>\n",
       "    </tr>\n",
       "    <tr>\n",
       "      <th>1</th>\n",
       "      <td>5</td>\n",
       "      <td>1</td>\n",
       "      <td>4.0</td>\n",
       "      <td>tt0114709</td>\n",
       "      <td>862</td>\n",
       "    </tr>\n",
       "    <tr>\n",
       "      <th>2</th>\n",
       "      <td>7</td>\n",
       "      <td>1</td>\n",
       "      <td>4.5</td>\n",
       "      <td>tt0114709</td>\n",
       "      <td>862</td>\n",
       "    </tr>\n",
       "    <tr>\n",
       "      <th>3</th>\n",
       "      <td>15</td>\n",
       "      <td>1</td>\n",
       "      <td>2.5</td>\n",
       "      <td>tt0114709</td>\n",
       "      <td>862</td>\n",
       "    </tr>\n",
       "    <tr>\n",
       "      <th>4</th>\n",
       "      <td>17</td>\n",
       "      <td>1</td>\n",
       "      <td>4.5</td>\n",
       "      <td>tt0114709</td>\n",
       "      <td>862</td>\n",
       "    </tr>\n",
       "  </tbody>\n",
       "</table>\n",
       "</div>"
      ],
      "text/plain": [
       "   userID  movieLensID  rating     IMDbID  TMDbID\n",
       "0       1            1     4.0  tt0114709     862\n",
       "1       5            1     4.0  tt0114709     862\n",
       "2       7            1     4.5  tt0114709     862\n",
       "3      15            1     2.5  tt0114709     862\n",
       "4      17            1     4.5  tt0114709     862"
      ]
     },
     "execution_count": 10,
     "metadata": {},
     "output_type": "execute_result"
    }
   ],
   "source": [
    "ratings_linked.head()"
   ]
  },
  {
   "cell_type": "markdown",
   "id": "85441d5e",
   "metadata": {},
   "source": [
    "## IMDb data"
   ]
  },
  {
   "cell_type": "code",
   "execution_count": 11,
   "id": "c1ba8f6f",
   "metadata": {},
   "outputs": [],
   "source": [
    "from sklearn.preprocessing import MultiLabelBinarizer\n",
    "mlb = MultiLabelBinarizer()"
   ]
  },
  {
   "cell_type": "code",
   "execution_count": 12,
   "id": "ed45dfb4",
   "metadata": {},
   "outputs": [
    {
     "name": "stderr",
     "output_type": "stream",
     "text": [
      "/opt/anaconda3/lib/python3.9/site-packages/IPython/core/interactiveshell.py:3444: DtypeWarning: Columns (4,5) have mixed types.Specify dtype option on import or set low_memory=False.\n",
      "  exec(code_obj, self.user_global_ns, self.user_ns)\n"
     ]
    }
   ],
   "source": [
    "#imdb tsv\n",
    "imdb_cols = ['IMDbID','type','title','originalTitle','adult','year','endYear','runtime','genres']\n",
    "imdb_df = pd.read_table(imdb_tsv, sep='\\t', names=imdb_cols, header=0)"
   ]
  },
  {
   "cell_type": "code",
   "execution_count": 13,
   "id": "a48c1054",
   "metadata": {},
   "outputs": [],
   "source": [
    "#filter for only movies\n",
    "imdb_df = imdb_df[imdb_df.type==\"movie\"]"
   ]
  },
  {
   "cell_type": "code",
   "execution_count": 14,
   "id": "69b149f0",
   "metadata": {},
   "outputs": [],
   "source": [
    "#clean adult column so it only contains 0 & 1\n",
    "for i in imdb_df.index:\n",
    "    a = imdb_df['adult'][i]\n",
    "    if a!=0 or a!=1:\n",
    "        if a == '1':\n",
    "            imdb_df.at[i,'adult'] = 1\n",
    "        else:\n",
    "            imdb_df.at[i,'adult'] = 0"
   ]
  },
  {
   "cell_type": "code",
   "execution_count": 15,
   "id": "426cff13",
   "metadata": {},
   "outputs": [],
   "source": [
    "#filter out adult\n",
    "imdb_df = imdb_df[imdb_df.adult==0]"
   ]
  },
  {
   "cell_type": "code",
   "execution_count": 16,
   "id": "516b4aea",
   "metadata": {},
   "outputs": [],
   "source": [
    "#drop unnecessary columns\n",
    "imdb_df = imdb_df.drop(['type','originalTitle','adult','year','endYear','runtime'],axis=1)"
   ]
  },
  {
   "cell_type": "markdown",
   "id": "015abc76",
   "metadata": {},
   "source": [
    "#### functions for transforming data"
   ]
  },
  {
   "cell_type": "code",
   "execution_count": 17,
   "id": "a7c614ab",
   "metadata": {},
   "outputs": [],
   "source": [
    "#function for converting strings to lists\n",
    "def stringToList(df,col,sep):\n",
    "    for i in df.index:\n",
    "        string = df[col][i]\n",
    "        resultList = string.split(sep)\n",
    "        df.at[i,col] = resultList"
   ]
  },
  {
   "cell_type": "code",
   "execution_count": 18,
   "id": "693a43ac",
   "metadata": {},
   "outputs": [],
   "source": [
    "def binary_array(df,col,newCol):\n",
    "    df[newCol] = df[col]\n",
    "    arr = mlb.fit_transform(df[newCol])\n",
    "    index = 0\n",
    "    for i in df.index:\n",
    "        df.at[i,newCol] = arr[index]\n",
    "        index += 1"
   ]
  },
  {
   "cell_type": "markdown",
   "id": "0461d42b",
   "metadata": {},
   "source": [
    "#### continue w cleaning imdb"
   ]
  },
  {
   "cell_type": "code",
   "execution_count": 19,
   "id": "4574beb2",
   "metadata": {},
   "outputs": [],
   "source": [
    "#separate genres into lists (\"Adventure,Comedy\" to [\"Adventure\",\"Comedy\"])\n",
    "stringToList(imdb_df,'genres',',')"
   ]
  },
  {
   "cell_type": "code",
   "execution_count": 20,
   "id": "93e6b1de",
   "metadata": {},
   "outputs": [],
   "source": [
    "#binarize genres\n",
    "binary_array(imdb_df,'genres','genres_binary')"
   ]
  },
  {
   "cell_type": "code",
   "execution_count": 21,
   "id": "5d2a4698",
   "metadata": {},
   "outputs": [
    {
     "data": {
      "text/html": [
       "<div>\n",
       "<style scoped>\n",
       "    .dataframe tbody tr th:only-of-type {\n",
       "        vertical-align: middle;\n",
       "    }\n",
       "\n",
       "    .dataframe tbody tr th {\n",
       "        vertical-align: top;\n",
       "    }\n",
       "\n",
       "    .dataframe thead th {\n",
       "        text-align: right;\n",
       "    }\n",
       "</style>\n",
       "<table border=\"1\" class=\"dataframe\">\n",
       "  <thead>\n",
       "    <tr style=\"text-align: right;\">\n",
       "      <th></th>\n",
       "      <th>IMDbID</th>\n",
       "      <th>title</th>\n",
       "      <th>genres</th>\n",
       "      <th>genres_binary</th>\n",
       "    </tr>\n",
       "  </thead>\n",
       "  <tbody>\n",
       "    <tr>\n",
       "      <th>498</th>\n",
       "      <td>tt0000502</td>\n",
       "      <td>Bohemios</td>\n",
       "      <td>[\\N]</td>\n",
       "      <td>[0, 0, 0, 0, 0, 0, 0, 0, 0, 0, 0, 0, 0, 0, 0, ...</td>\n",
       "    </tr>\n",
       "    <tr>\n",
       "      <th>570</th>\n",
       "      <td>tt0000574</td>\n",
       "      <td>The Story of the Kelly Gang</td>\n",
       "      <td>[Action, Adventure, Biography]</td>\n",
       "      <td>[1, 0, 1, 0, 1, 0, 0, 0, 0, 0, 0, 0, 0, 0, 0, ...</td>\n",
       "    </tr>\n",
       "    <tr>\n",
       "      <th>587</th>\n",
       "      <td>tt0000591</td>\n",
       "      <td>The Prodigal Son</td>\n",
       "      <td>[Drama]</td>\n",
       "      <td>[0, 0, 0, 0, 0, 0, 0, 0, 1, 0, 0, 0, 0, 0, 0, ...</td>\n",
       "    </tr>\n",
       "    <tr>\n",
       "      <th>610</th>\n",
       "      <td>tt0000615</td>\n",
       "      <td>Robbery Under Arms</td>\n",
       "      <td>[Drama]</td>\n",
       "      <td>[0, 0, 0, 0, 0, 0, 0, 0, 1, 0, 0, 0, 0, 0, 0, ...</td>\n",
       "    </tr>\n",
       "    <tr>\n",
       "      <th>625</th>\n",
       "      <td>tt0000630</td>\n",
       "      <td>Hamlet</td>\n",
       "      <td>[Drama]</td>\n",
       "      <td>[0, 0, 0, 0, 0, 0, 0, 0, 1, 0, 0, 0, 0, 0, 0, ...</td>\n",
       "    </tr>\n",
       "  </tbody>\n",
       "</table>\n",
       "</div>"
      ],
      "text/plain": [
       "        IMDbID                        title                          genres  \\\n",
       "498  tt0000502                     Bohemios                            [\\N]   \n",
       "570  tt0000574  The Story of the Kelly Gang  [Action, Adventure, Biography]   \n",
       "587  tt0000591             The Prodigal Son                         [Drama]   \n",
       "610  tt0000615           Robbery Under Arms                         [Drama]   \n",
       "625  tt0000630                       Hamlet                         [Drama]   \n",
       "\n",
       "                                         genres_binary  \n",
       "498  [0, 0, 0, 0, 0, 0, 0, 0, 0, 0, 0, 0, 0, 0, 0, ...  \n",
       "570  [1, 0, 1, 0, 1, 0, 0, 0, 0, 0, 0, 0, 0, 0, 0, ...  \n",
       "587  [0, 0, 0, 0, 0, 0, 0, 0, 1, 0, 0, 0, 0, 0, 0, ...  \n",
       "610  [0, 0, 0, 0, 0, 0, 0, 0, 1, 0, 0, 0, 0, 0, 0, ...  \n",
       "625  [0, 0, 0, 0, 0, 0, 0, 0, 1, 0, 0, 0, 0, 0, 0, ...  "
      ]
     },
     "execution_count": 21,
     "metadata": {},
     "output_type": "execute_result"
    }
   ],
   "source": [
    "imdb_df.head()"
   ]
  },
  {
   "cell_type": "markdown",
   "id": "cf07220d",
   "metadata": {},
   "source": [
    "#### add imdb ratings"
   ]
  },
  {
   "cell_type": "code",
   "execution_count": 22,
   "id": "c45a506e",
   "metadata": {},
   "outputs": [],
   "source": [
    "#imdb ratings data\n",
    "imdb_ratings_cols = ['IMDbID','IMDb_rating','IMDb_votes']\n",
    "imdb_ratings_df = pd.read_table(imdb_ratings_tsv, sep='\\t', names=imdb_ratings_cols, header=0)"
   ]
  },
  {
   "cell_type": "code",
   "execution_count": 23,
   "id": "3c0a0093",
   "metadata": {},
   "outputs": [],
   "source": [
    "#merge ratings data\n",
    "imdb_ratings_merged = pd.merge(imdb_df, imdb_ratings_df, on='IMDbID', how='inner')"
   ]
  },
  {
   "cell_type": "code",
   "execution_count": 24,
   "id": "5898217b",
   "metadata": {
    "scrolled": true
   },
   "outputs": [
    {
     "data": {
      "text/html": [
       "<div>\n",
       "<style scoped>\n",
       "    .dataframe tbody tr th:only-of-type {\n",
       "        vertical-align: middle;\n",
       "    }\n",
       "\n",
       "    .dataframe tbody tr th {\n",
       "        vertical-align: top;\n",
       "    }\n",
       "\n",
       "    .dataframe thead th {\n",
       "        text-align: right;\n",
       "    }\n",
       "</style>\n",
       "<table border=\"1\" class=\"dataframe\">\n",
       "  <thead>\n",
       "    <tr style=\"text-align: right;\">\n",
       "      <th></th>\n",
       "      <th>IMDbID</th>\n",
       "      <th>title</th>\n",
       "      <th>genres</th>\n",
       "      <th>genres_binary</th>\n",
       "      <th>IMDb_rating</th>\n",
       "      <th>IMDb_votes</th>\n",
       "    </tr>\n",
       "  </thead>\n",
       "  <tbody>\n",
       "    <tr>\n",
       "      <th>0</th>\n",
       "      <td>tt0000502</td>\n",
       "      <td>Bohemios</td>\n",
       "      <td>[\\N]</td>\n",
       "      <td>[0, 0, 0, 0, 0, 0, 0, 0, 0, 0, 0, 0, 0, 0, 0, ...</td>\n",
       "      <td>4.5</td>\n",
       "      <td>14</td>\n",
       "    </tr>\n",
       "    <tr>\n",
       "      <th>1</th>\n",
       "      <td>tt0000574</td>\n",
       "      <td>The Story of the Kelly Gang</td>\n",
       "      <td>[Action, Adventure, Biography]</td>\n",
       "      <td>[1, 0, 1, 0, 1, 0, 0, 0, 0, 0, 0, 0, 0, 0, 0, ...</td>\n",
       "      <td>6.1</td>\n",
       "      <td>739</td>\n",
       "    </tr>\n",
       "    <tr>\n",
       "      <th>2</th>\n",
       "      <td>tt0000591</td>\n",
       "      <td>The Prodigal Son</td>\n",
       "      <td>[Drama]</td>\n",
       "      <td>[0, 0, 0, 0, 0, 0, 0, 0, 1, 0, 0, 0, 0, 0, 0, ...</td>\n",
       "      <td>5.2</td>\n",
       "      <td>16</td>\n",
       "    </tr>\n",
       "    <tr>\n",
       "      <th>3</th>\n",
       "      <td>tt0000615</td>\n",
       "      <td>Robbery Under Arms</td>\n",
       "      <td>[Drama]</td>\n",
       "      <td>[0, 0, 0, 0, 0, 0, 0, 0, 1, 0, 0, 0, 0, 0, 0, ...</td>\n",
       "      <td>4.5</td>\n",
       "      <td>23</td>\n",
       "    </tr>\n",
       "    <tr>\n",
       "      <th>4</th>\n",
       "      <td>tt0000630</td>\n",
       "      <td>Hamlet</td>\n",
       "      <td>[Drama]</td>\n",
       "      <td>[0, 0, 0, 0, 0, 0, 0, 0, 1, 0, 0, 0, 0, 0, 0, ...</td>\n",
       "      <td>3.8</td>\n",
       "      <td>23</td>\n",
       "    </tr>\n",
       "  </tbody>\n",
       "</table>\n",
       "</div>"
      ],
      "text/plain": [
       "      IMDbID                        title                          genres  \\\n",
       "0  tt0000502                     Bohemios                            [\\N]   \n",
       "1  tt0000574  The Story of the Kelly Gang  [Action, Adventure, Biography]   \n",
       "2  tt0000591             The Prodigal Son                         [Drama]   \n",
       "3  tt0000615           Robbery Under Arms                         [Drama]   \n",
       "4  tt0000630                       Hamlet                         [Drama]   \n",
       "\n",
       "                                       genres_binary  IMDb_rating  IMDb_votes  \n",
       "0  [0, 0, 0, 0, 0, 0, 0, 0, 0, 0, 0, 0, 0, 0, 0, ...          4.5          14  \n",
       "1  [1, 0, 1, 0, 1, 0, 0, 0, 0, 0, 0, 0, 0, 0, 0, ...          6.1         739  \n",
       "2  [0, 0, 0, 0, 0, 0, 0, 0, 1, 0, 0, 0, 0, 0, 0, ...          5.2          16  \n",
       "3  [0, 0, 0, 0, 0, 0, 0, 0, 1, 0, 0, 0, 0, 0, 0, ...          4.5          23  \n",
       "4  [0, 0, 0, 0, 0, 0, 0, 0, 1, 0, 0, 0, 0, 0, 0, ...          3.8          23  "
      ]
     },
     "execution_count": 24,
     "metadata": {},
     "output_type": "execute_result"
    }
   ],
   "source": [
    "imdb_ratings_merged.head()"
   ]
  },
  {
   "cell_type": "markdown",
   "id": "b7f7a9f2",
   "metadata": {},
   "source": [
    "## TMDb data"
   ]
  },
  {
   "cell_type": "code",
   "execution_count": 25,
   "id": "839051c6",
   "metadata": {},
   "outputs": [],
   "source": [
    "tmdb_df = pd.read_csv(tmdb_csv, header=0)\n",
    "tmdb_df = tmdb_df.rename(columns={'id':'TMDbID','imdb_id':'IMDbID','original_title':'title',\n",
    "                                  'vote_count':'TMDb_votes','vote_average':'TMDb_rating'})"
   ]
  },
  {
   "cell_type": "code",
   "execution_count": 26,
   "id": "6b180d7e",
   "metadata": {},
   "outputs": [],
   "source": [
    "#drop unnecessary columns\n",
    "tmdb_df = tmdb_df.drop(['popularity','budget','revenue','homepage','tagline','overview','runtime',\n",
    "                        'genres','production_companies','release_date','release_year','budget_adj',\n",
    "                        'revenue_adj'],axis=1)"
   ]
  },
  {
   "cell_type": "code",
   "execution_count": 27,
   "id": "bbafda0c",
   "metadata": {},
   "outputs": [],
   "source": [
    "#fill empty casts, keywords, and directors with empty strings\n",
    "tmdb_df.cast = tmdb_df.cast.fillna('')\n",
    "tmdb_df.keywords = tmdb_df.keywords.fillna('')\n",
    "tmdb_df.director = tmdb_df.director.fillna('')"
   ]
  },
  {
   "cell_type": "code",
   "execution_count": 28,
   "id": "23f7c3a2",
   "metadata": {},
   "outputs": [],
   "source": [
    "#transform cast to binary list\n",
    "stringToList(tmdb_df,'cast','|')\n",
    "binary_array(tmdb_df,'cast','cast_binary')"
   ]
  },
  {
   "cell_type": "code",
   "execution_count": 29,
   "id": "4e3d3f99",
   "metadata": {},
   "outputs": [],
   "source": [
    "#transform keywords to binary list\n",
    "stringToList(tmdb_df,'keywords','|')\n",
    "binary_array(tmdb_df,'keywords','keywords_binary')"
   ]
  },
  {
   "cell_type": "code",
   "execution_count": 30,
   "id": "210cde64",
   "metadata": {},
   "outputs": [],
   "source": [
    "#transform directors to binary list\n",
    "stringToList(tmdb_df,'director','|')\n",
    "binary_array(tmdb_df,'director','director_binary')"
   ]
  },
  {
   "cell_type": "code",
   "execution_count": 31,
   "id": "f7d67a4c",
   "metadata": {},
   "outputs": [
    {
     "data": {
      "text/html": [
       "<div>\n",
       "<style scoped>\n",
       "    .dataframe tbody tr th:only-of-type {\n",
       "        vertical-align: middle;\n",
       "    }\n",
       "\n",
       "    .dataframe tbody tr th {\n",
       "        vertical-align: top;\n",
       "    }\n",
       "\n",
       "    .dataframe thead th {\n",
       "        text-align: right;\n",
       "    }\n",
       "</style>\n",
       "<table border=\"1\" class=\"dataframe\">\n",
       "  <thead>\n",
       "    <tr style=\"text-align: right;\">\n",
       "      <th></th>\n",
       "      <th>TMDbID</th>\n",
       "      <th>IMDbID</th>\n",
       "      <th>title</th>\n",
       "      <th>cast</th>\n",
       "      <th>director</th>\n",
       "      <th>keywords</th>\n",
       "      <th>TMDb_votes</th>\n",
       "      <th>TMDb_rating</th>\n",
       "      <th>cast_binary</th>\n",
       "      <th>keywords_binary</th>\n",
       "      <th>director_binary</th>\n",
       "    </tr>\n",
       "  </thead>\n",
       "  <tbody>\n",
       "    <tr>\n",
       "      <th>0</th>\n",
       "      <td>135397</td>\n",
       "      <td>tt0369610</td>\n",
       "      <td>Jurassic World</td>\n",
       "      <td>[Chris Pratt, Bryce Dallas Howard, Irrfan Khan...</td>\n",
       "      <td>[Colin Trevorrow]</td>\n",
       "      <td>[monster, dna, tyrannosaurus rex, velociraptor...</td>\n",
       "      <td>5562</td>\n",
       "      <td>6.5</td>\n",
       "      <td>[0, 0, 0, 0, 0, 0, 0, 0, 0, 0, 0, 0, 0, 0, 0, ...</td>\n",
       "      <td>[0, 0, 0, 0, 0, 0, 0, 0, 0, 0, 0, 0, 0, 0, 0, ...</td>\n",
       "      <td>[0, 0, 0, 0, 0, 0, 0, 0, 0, 0, 0, 0, 0, 0, 0, ...</td>\n",
       "    </tr>\n",
       "    <tr>\n",
       "      <th>1</th>\n",
       "      <td>76341</td>\n",
       "      <td>tt1392190</td>\n",
       "      <td>Mad Max: Fury Road</td>\n",
       "      <td>[Tom Hardy, Charlize Theron, Hugh Keays-Byrne,...</td>\n",
       "      <td>[George Miller]</td>\n",
       "      <td>[future, chase, post-apocalyptic, dystopia, au...</td>\n",
       "      <td>6185</td>\n",
       "      <td>7.1</td>\n",
       "      <td>[0, 0, 0, 0, 0, 0, 0, 0, 0, 0, 0, 0, 0, 0, 0, ...</td>\n",
       "      <td>[0, 0, 0, 0, 0, 0, 0, 0, 0, 0, 0, 0, 0, 0, 0, ...</td>\n",
       "      <td>[0, 0, 0, 0, 0, 0, 0, 0, 0, 0, 0, 0, 0, 0, 0, ...</td>\n",
       "    </tr>\n",
       "    <tr>\n",
       "      <th>2</th>\n",
       "      <td>262500</td>\n",
       "      <td>tt2908446</td>\n",
       "      <td>Insurgent</td>\n",
       "      <td>[Shailene Woodley, Theo James, Kate Winslet, A...</td>\n",
       "      <td>[Robert Schwentke]</td>\n",
       "      <td>[based on novel, revolution, dystopia, sequel,...</td>\n",
       "      <td>2480</td>\n",
       "      <td>6.3</td>\n",
       "      <td>[0, 0, 0, 0, 0, 0, 0, 0, 0, 0, 0, 0, 0, 0, 0, ...</td>\n",
       "      <td>[0, 0, 0, 0, 0, 0, 0, 0, 0, 0, 0, 0, 0, 0, 0, ...</td>\n",
       "      <td>[0, 0, 0, 0, 0, 0, 0, 0, 0, 0, 0, 0, 0, 0, 0, ...</td>\n",
       "    </tr>\n",
       "    <tr>\n",
       "      <th>3</th>\n",
       "      <td>140607</td>\n",
       "      <td>tt2488496</td>\n",
       "      <td>Star Wars: The Force Awakens</td>\n",
       "      <td>[Harrison Ford, Mark Hamill, Carrie Fisher, Ad...</td>\n",
       "      <td>[J.J. Abrams]</td>\n",
       "      <td>[android, spaceship, jedi, space opera, 3d]</td>\n",
       "      <td>5292</td>\n",
       "      <td>7.5</td>\n",
       "      <td>[0, 0, 0, 0, 0, 0, 0, 0, 0, 0, 0, 0, 0, 0, 0, ...</td>\n",
       "      <td>[0, 0, 0, 0, 0, 0, 0, 0, 0, 0, 0, 0, 0, 0, 0, ...</td>\n",
       "      <td>[0, 0, 0, 0, 0, 0, 0, 0, 0, 0, 0, 0, 0, 0, 0, ...</td>\n",
       "    </tr>\n",
       "    <tr>\n",
       "      <th>4</th>\n",
       "      <td>168259</td>\n",
       "      <td>tt2820852</td>\n",
       "      <td>Furious 7</td>\n",
       "      <td>[Vin Diesel, Paul Walker, Jason Statham, Miche...</td>\n",
       "      <td>[James Wan]</td>\n",
       "      <td>[car race, speed, revenge, suspense, car]</td>\n",
       "      <td>2947</td>\n",
       "      <td>7.3</td>\n",
       "      <td>[0, 0, 0, 0, 0, 0, 0, 0, 0, 0, 0, 0, 0, 0, 0, ...</td>\n",
       "      <td>[0, 0, 0, 0, 0, 0, 0, 0, 0, 0, 0, 0, 0, 0, 0, ...</td>\n",
       "      <td>[0, 0, 0, 0, 0, 0, 0, 0, 0, 0, 0, 0, 0, 0, 0, ...</td>\n",
       "    </tr>\n",
       "  </tbody>\n",
       "</table>\n",
       "</div>"
      ],
      "text/plain": [
       "   TMDbID     IMDbID                         title  \\\n",
       "0  135397  tt0369610                Jurassic World   \n",
       "1   76341  tt1392190            Mad Max: Fury Road   \n",
       "2  262500  tt2908446                     Insurgent   \n",
       "3  140607  tt2488496  Star Wars: The Force Awakens   \n",
       "4  168259  tt2820852                     Furious 7   \n",
       "\n",
       "                                                cast            director  \\\n",
       "0  [Chris Pratt, Bryce Dallas Howard, Irrfan Khan...   [Colin Trevorrow]   \n",
       "1  [Tom Hardy, Charlize Theron, Hugh Keays-Byrne,...     [George Miller]   \n",
       "2  [Shailene Woodley, Theo James, Kate Winslet, A...  [Robert Schwentke]   \n",
       "3  [Harrison Ford, Mark Hamill, Carrie Fisher, Ad...       [J.J. Abrams]   \n",
       "4  [Vin Diesel, Paul Walker, Jason Statham, Miche...         [James Wan]   \n",
       "\n",
       "                                            keywords  TMDb_votes  TMDb_rating  \\\n",
       "0  [monster, dna, tyrannosaurus rex, velociraptor...        5562          6.5   \n",
       "1  [future, chase, post-apocalyptic, dystopia, au...        6185          7.1   \n",
       "2  [based on novel, revolution, dystopia, sequel,...        2480          6.3   \n",
       "3        [android, spaceship, jedi, space opera, 3d]        5292          7.5   \n",
       "4          [car race, speed, revenge, suspense, car]        2947          7.3   \n",
       "\n",
       "                                         cast_binary  \\\n",
       "0  [0, 0, 0, 0, 0, 0, 0, 0, 0, 0, 0, 0, 0, 0, 0, ...   \n",
       "1  [0, 0, 0, 0, 0, 0, 0, 0, 0, 0, 0, 0, 0, 0, 0, ...   \n",
       "2  [0, 0, 0, 0, 0, 0, 0, 0, 0, 0, 0, 0, 0, 0, 0, ...   \n",
       "3  [0, 0, 0, 0, 0, 0, 0, 0, 0, 0, 0, 0, 0, 0, 0, ...   \n",
       "4  [0, 0, 0, 0, 0, 0, 0, 0, 0, 0, 0, 0, 0, 0, 0, ...   \n",
       "\n",
       "                                     keywords_binary  \\\n",
       "0  [0, 0, 0, 0, 0, 0, 0, 0, 0, 0, 0, 0, 0, 0, 0, ...   \n",
       "1  [0, 0, 0, 0, 0, 0, 0, 0, 0, 0, 0, 0, 0, 0, 0, ...   \n",
       "2  [0, 0, 0, 0, 0, 0, 0, 0, 0, 0, 0, 0, 0, 0, 0, ...   \n",
       "3  [0, 0, 0, 0, 0, 0, 0, 0, 0, 0, 0, 0, 0, 0, 0, ...   \n",
       "4  [0, 0, 0, 0, 0, 0, 0, 0, 0, 0, 0, 0, 0, 0, 0, ...   \n",
       "\n",
       "                                     director_binary  \n",
       "0  [0, 0, 0, 0, 0, 0, 0, 0, 0, 0, 0, 0, 0, 0, 0, ...  \n",
       "1  [0, 0, 0, 0, 0, 0, 0, 0, 0, 0, 0, 0, 0, 0, 0, ...  \n",
       "2  [0, 0, 0, 0, 0, 0, 0, 0, 0, 0, 0, 0, 0, 0, 0, ...  \n",
       "3  [0, 0, 0, 0, 0, 0, 0, 0, 0, 0, 0, 0, 0, 0, 0, ...  \n",
       "4  [0, 0, 0, 0, 0, 0, 0, 0, 0, 0, 0, 0, 0, 0, 0, ...  "
      ]
     },
     "execution_count": 31,
     "metadata": {},
     "output_type": "execute_result"
    }
   ],
   "source": [
    "tmdb_df.head()"
   ]
  },
  {
   "cell_type": "markdown",
   "id": "c3510876",
   "metadata": {},
   "source": [
    "## merging"
   ]
  },
  {
   "cell_type": "markdown",
   "id": "ddda2cac",
   "metadata": {},
   "source": [
    "### merge imdb with ratings and tmdb"
   ]
  },
  {
   "cell_type": "code",
   "execution_count": 32,
   "id": "ea0e828e",
   "metadata": {},
   "outputs": [],
   "source": [
    "imdb_tmdb = pd.merge(imdb_ratings_merged, tmdb_df, on='IMDbID', how='inner')\n",
    "imdb_tmdb = imdb_tmdb.drop('title_y',axis=1).rename(columns={'title_x':'title'})"
   ]
  },
  {
   "cell_type": "code",
   "execution_count": 33,
   "id": "c71da8bd",
   "metadata": {},
   "outputs": [
    {
     "data": {
      "text/html": [
       "<div>\n",
       "<style scoped>\n",
       "    .dataframe tbody tr th:only-of-type {\n",
       "        vertical-align: middle;\n",
       "    }\n",
       "\n",
       "    .dataframe tbody tr th {\n",
       "        vertical-align: top;\n",
       "    }\n",
       "\n",
       "    .dataframe thead th {\n",
       "        text-align: right;\n",
       "    }\n",
       "</style>\n",
       "<table border=\"1\" class=\"dataframe\">\n",
       "  <thead>\n",
       "    <tr style=\"text-align: right;\">\n",
       "      <th></th>\n",
       "      <th>IMDbID</th>\n",
       "      <th>title</th>\n",
       "      <th>genres</th>\n",
       "      <th>genres_binary</th>\n",
       "      <th>IMDb_rating</th>\n",
       "      <th>IMDb_votes</th>\n",
       "      <th>TMDbID</th>\n",
       "      <th>cast</th>\n",
       "      <th>director</th>\n",
       "      <th>keywords</th>\n",
       "      <th>TMDb_votes</th>\n",
       "      <th>TMDb_rating</th>\n",
       "      <th>cast_binary</th>\n",
       "      <th>keywords_binary</th>\n",
       "      <th>director_binary</th>\n",
       "    </tr>\n",
       "  </thead>\n",
       "  <tbody>\n",
       "    <tr>\n",
       "      <th>0</th>\n",
       "      <td>tt0035423</td>\n",
       "      <td>Kate &amp; Leopold</td>\n",
       "      <td>[Comedy, Fantasy, Romance]</td>\n",
       "      <td>[0, 0, 0, 0, 0, 1, 0, 0, 0, 0, 1, 0, 0, 0, 0, ...</td>\n",
       "      <td>6.4</td>\n",
       "      <td>82109</td>\n",
       "      <td>11232</td>\n",
       "      <td>[Meg Ryan, Hugh Jackman, Liev Schreiber, Breck...</td>\n",
       "      <td>[James Mangold]</td>\n",
       "      <td>[lover (female), love of one's life, time trav...</td>\n",
       "      <td>248</td>\n",
       "      <td>5.8</td>\n",
       "      <td>[0, 0, 0, 0, 0, 0, 0, 0, 0, 0, 0, 0, 0, 0, 0, ...</td>\n",
       "      <td>[0, 0, 0, 0, 0, 0, 0, 0, 0, 0, 0, 0, 0, 0, 0, ...</td>\n",
       "      <td>[0, 0, 0, 0, 0, 0, 0, 0, 0, 0, 0, 0, 0, 0, 0, ...</td>\n",
       "    </tr>\n",
       "    <tr>\n",
       "      <th>1</th>\n",
       "      <td>tt0052646</td>\n",
       "      <td>The Brain That Wouldn't Die</td>\n",
       "      <td>[Horror, Sci-Fi]</td>\n",
       "      <td>[0, 0, 0, 0, 0, 0, 0, 0, 0, 0, 0, 0, 0, 0, 1, ...</td>\n",
       "      <td>4.5</td>\n",
       "      <td>6801</td>\n",
       "      <td>33468</td>\n",
       "      <td>[Jason Evers, Virginia Leith, Doris Brent, Aud...</td>\n",
       "      <td>[Joseph Green]</td>\n",
       "      <td>[transplantation, experiment, mutant, brain, f...</td>\n",
       "      <td>12</td>\n",
       "      <td>4.9</td>\n",
       "      <td>[0, 0, 0, 0, 0, 0, 0, 0, 0, 0, 0, 0, 0, 0, 0, ...</td>\n",
       "      <td>[0, 0, 0, 0, 0, 0, 0, 0, 0, 0, 0, 0, 0, 0, 0, ...</td>\n",
       "      <td>[0, 0, 0, 0, 0, 0, 0, 0, 0, 0, 0, 0, 0, 0, 0, ...</td>\n",
       "    </tr>\n",
       "    <tr>\n",
       "      <th>2</th>\n",
       "      <td>tt0053559</td>\n",
       "      <td>13 Ghosts</td>\n",
       "      <td>[Horror, Mystery]</td>\n",
       "      <td>[0, 0, 0, 0, 0, 0, 0, 0, 0, 0, 0, 0, 0, 0, 1, ...</td>\n",
       "      <td>6.1</td>\n",
       "      <td>6059</td>\n",
       "      <td>29756</td>\n",
       "      <td>[Charles Herbert, Jo Morrow, Martin Milner, Ro...</td>\n",
       "      <td>[William Castle]</td>\n",
       "      <td>[haunted house]</td>\n",
       "      <td>12</td>\n",
       "      <td>5.5</td>\n",
       "      <td>[0, 0, 0, 0, 0, 0, 0, 0, 0, 0, 0, 0, 0, 0, 0, ...</td>\n",
       "      <td>[0, 0, 0, 0, 0, 0, 0, 0, 0, 0, 0, 0, 0, 0, 0, ...</td>\n",
       "      <td>[0, 0, 0, 0, 0, 0, 0, 0, 0, 0, 0, 0, 0, 0, 0, ...</td>\n",
       "    </tr>\n",
       "    <tr>\n",
       "      <th>3</th>\n",
       "      <td>tt0053580</td>\n",
       "      <td>The Alamo</td>\n",
       "      <td>[Adventure, Drama, History]</td>\n",
       "      <td>[0, 0, 1, 0, 0, 0, 0, 0, 1, 0, 0, 0, 0, 1, 0, ...</td>\n",
       "      <td>6.8</td>\n",
       "      <td>15401</td>\n",
       "      <td>11209</td>\n",
       "      <td>[John Wayne, Richard Widmark, Laurence Harvey,...</td>\n",
       "      <td>[John Wayne]</td>\n",
       "      <td>[texas, assault, alamo, mexican, mexican army]</td>\n",
       "      <td>27</td>\n",
       "      <td>6.2</td>\n",
       "      <td>[0, 0, 0, 0, 0, 0, 0, 0, 0, 0, 0, 0, 0, 0, 0, ...</td>\n",
       "      <td>[0, 0, 0, 0, 0, 0, 0, 0, 0, 0, 0, 0, 0, 0, 0, ...</td>\n",
       "      <td>[0, 0, 0, 0, 0, 0, 0, 0, 0, 0, 0, 0, 0, 0, 0, ...</td>\n",
       "    </tr>\n",
       "    <tr>\n",
       "      <th>4</th>\n",
       "      <td>tt0053604</td>\n",
       "      <td>The Apartment</td>\n",
       "      <td>[Comedy, Drama, Romance]</td>\n",
       "      <td>[0, 0, 0, 0, 0, 1, 0, 0, 1, 0, 0, 0, 0, 0, 0, ...</td>\n",
       "      <td>8.3</td>\n",
       "      <td>173892</td>\n",
       "      <td>284</td>\n",
       "      <td>[Jack Lemmon, Shirley MacLaine, Fred MacMurray...</td>\n",
       "      <td>[Billy Wilder]</td>\n",
       "      <td>[new york, new year's eve, lovesickness, age d...</td>\n",
       "      <td>235</td>\n",
       "      <td>7.9</td>\n",
       "      <td>[0, 0, 0, 0, 0, 0, 0, 0, 0, 0, 0, 0, 0, 0, 0, ...</td>\n",
       "      <td>[0, 0, 0, 0, 0, 0, 0, 0, 0, 0, 0, 0, 0, 0, 0, ...</td>\n",
       "      <td>[0, 0, 0, 0, 0, 0, 0, 0, 0, 0, 0, 0, 0, 0, 0, ...</td>\n",
       "    </tr>\n",
       "  </tbody>\n",
       "</table>\n",
       "</div>"
      ],
      "text/plain": [
       "      IMDbID                        title                       genres  \\\n",
       "0  tt0035423               Kate & Leopold   [Comedy, Fantasy, Romance]   \n",
       "1  tt0052646  The Brain That Wouldn't Die             [Horror, Sci-Fi]   \n",
       "2  tt0053559                    13 Ghosts            [Horror, Mystery]   \n",
       "3  tt0053580                    The Alamo  [Adventure, Drama, History]   \n",
       "4  tt0053604                The Apartment     [Comedy, Drama, Romance]   \n",
       "\n",
       "                                       genres_binary  IMDb_rating  IMDb_votes  \\\n",
       "0  [0, 0, 0, 0, 0, 1, 0, 0, 0, 0, 1, 0, 0, 0, 0, ...          6.4       82109   \n",
       "1  [0, 0, 0, 0, 0, 0, 0, 0, 0, 0, 0, 0, 0, 0, 1, ...          4.5        6801   \n",
       "2  [0, 0, 0, 0, 0, 0, 0, 0, 0, 0, 0, 0, 0, 0, 1, ...          6.1        6059   \n",
       "3  [0, 0, 1, 0, 0, 0, 0, 0, 1, 0, 0, 0, 0, 1, 0, ...          6.8       15401   \n",
       "4  [0, 0, 0, 0, 0, 1, 0, 0, 1, 0, 0, 0, 0, 0, 0, ...          8.3      173892   \n",
       "\n",
       "   TMDbID                                               cast  \\\n",
       "0   11232  [Meg Ryan, Hugh Jackman, Liev Schreiber, Breck...   \n",
       "1   33468  [Jason Evers, Virginia Leith, Doris Brent, Aud...   \n",
       "2   29756  [Charles Herbert, Jo Morrow, Martin Milner, Ro...   \n",
       "3   11209  [John Wayne, Richard Widmark, Laurence Harvey,...   \n",
       "4     284  [Jack Lemmon, Shirley MacLaine, Fred MacMurray...   \n",
       "\n",
       "           director                                           keywords  \\\n",
       "0   [James Mangold]  [lover (female), love of one's life, time trav...   \n",
       "1    [Joseph Green]  [transplantation, experiment, mutant, brain, f...   \n",
       "2  [William Castle]                                    [haunted house]   \n",
       "3      [John Wayne]     [texas, assault, alamo, mexican, mexican army]   \n",
       "4    [Billy Wilder]  [new york, new year's eve, lovesickness, age d...   \n",
       "\n",
       "   TMDb_votes  TMDb_rating                                        cast_binary  \\\n",
       "0         248          5.8  [0, 0, 0, 0, 0, 0, 0, 0, 0, 0, 0, 0, 0, 0, 0, ...   \n",
       "1          12          4.9  [0, 0, 0, 0, 0, 0, 0, 0, 0, 0, 0, 0, 0, 0, 0, ...   \n",
       "2          12          5.5  [0, 0, 0, 0, 0, 0, 0, 0, 0, 0, 0, 0, 0, 0, 0, ...   \n",
       "3          27          6.2  [0, 0, 0, 0, 0, 0, 0, 0, 0, 0, 0, 0, 0, 0, 0, ...   \n",
       "4         235          7.9  [0, 0, 0, 0, 0, 0, 0, 0, 0, 0, 0, 0, 0, 0, 0, ...   \n",
       "\n",
       "                                     keywords_binary  \\\n",
       "0  [0, 0, 0, 0, 0, 0, 0, 0, 0, 0, 0, 0, 0, 0, 0, ...   \n",
       "1  [0, 0, 0, 0, 0, 0, 0, 0, 0, 0, 0, 0, 0, 0, 0, ...   \n",
       "2  [0, 0, 0, 0, 0, 0, 0, 0, 0, 0, 0, 0, 0, 0, 0, ...   \n",
       "3  [0, 0, 0, 0, 0, 0, 0, 0, 0, 0, 0, 0, 0, 0, 0, ...   \n",
       "4  [0, 0, 0, 0, 0, 0, 0, 0, 0, 0, 0, 0, 0, 0, 0, ...   \n",
       "\n",
       "                                     director_binary  \n",
       "0  [0, 0, 0, 0, 0, 0, 0, 0, 0, 0, 0, 0, 0, 0, 0, ...  \n",
       "1  [0, 0, 0, 0, 0, 0, 0, 0, 0, 0, 0, 0, 0, 0, 0, ...  \n",
       "2  [0, 0, 0, 0, 0, 0, 0, 0, 0, 0, 0, 0, 0, 0, 0, ...  \n",
       "3  [0, 0, 0, 0, 0, 0, 0, 0, 0, 0, 0, 0, 0, 0, 0, ...  \n",
       "4  [0, 0, 0, 0, 0, 0, 0, 0, 0, 0, 0, 0, 0, 0, 0, ...  "
      ]
     },
     "execution_count": 33,
     "metadata": {},
     "output_type": "execute_result"
    }
   ],
   "source": [
    "imdb_tmdb.head()"
   ]
  },
  {
   "cell_type": "markdown",
   "id": "1ee9b8b4",
   "metadata": {},
   "source": [
    "### merge imdb_tmdb with movielens ID"
   ]
  },
  {
   "cell_type": "code",
   "execution_count": 34,
   "id": "49f0c0b3",
   "metadata": {},
   "outputs": [],
   "source": [
    "imdb_tmdb_movieLens = pd.merge(links,imdb_tmdb,on='IMDbID',how='inner')\n",
    "imdb_tmdb_movieLens = imdb_tmdb_movieLens.drop(['TMDbID_y'],axis=1).rename(columns={'TMDbID_x':'TMDbID'})"
   ]
  },
  {
   "cell_type": "code",
   "execution_count": 35,
   "id": "b784746a",
   "metadata": {},
   "outputs": [
    {
     "data": {
      "text/html": [
       "<div>\n",
       "<style scoped>\n",
       "    .dataframe tbody tr th:only-of-type {\n",
       "        vertical-align: middle;\n",
       "    }\n",
       "\n",
       "    .dataframe tbody tr th {\n",
       "        vertical-align: top;\n",
       "    }\n",
       "\n",
       "    .dataframe thead th {\n",
       "        text-align: right;\n",
       "    }\n",
       "</style>\n",
       "<table border=\"1\" class=\"dataframe\">\n",
       "  <thead>\n",
       "    <tr style=\"text-align: right;\">\n",
       "      <th></th>\n",
       "      <th>movieLensID</th>\n",
       "      <th>IMDbID</th>\n",
       "      <th>TMDbID</th>\n",
       "      <th>title</th>\n",
       "      <th>genres</th>\n",
       "      <th>genres_binary</th>\n",
       "      <th>IMDb_rating</th>\n",
       "      <th>IMDb_votes</th>\n",
       "      <th>cast</th>\n",
       "      <th>director</th>\n",
       "      <th>keywords</th>\n",
       "      <th>TMDb_votes</th>\n",
       "      <th>TMDb_rating</th>\n",
       "      <th>cast_binary</th>\n",
       "      <th>keywords_binary</th>\n",
       "      <th>director_binary</th>\n",
       "    </tr>\n",
       "  </thead>\n",
       "  <tbody>\n",
       "    <tr>\n",
       "      <th>0</th>\n",
       "      <td>1</td>\n",
       "      <td>tt0114709</td>\n",
       "      <td>862</td>\n",
       "      <td>Toy Story</td>\n",
       "      <td>[Adventure, Animation, Comedy]</td>\n",
       "      <td>[0, 0, 1, 1, 0, 1, 0, 0, 0, 0, 0, 0, 0, 0, 0, ...</td>\n",
       "      <td>8.3</td>\n",
       "      <td>936979</td>\n",
       "      <td>[Tom Hanks, Tim Allen, Don Rickles, Jim Varney...</td>\n",
       "      <td>[John Lasseter]</td>\n",
       "      <td>[jealousy, toy, boy, friendship, friends]</td>\n",
       "      <td>3141</td>\n",
       "      <td>7.5</td>\n",
       "      <td>[0, 0, 0, 0, 0, 0, 0, 0, 0, 0, 0, 0, 0, 0, 0, ...</td>\n",
       "      <td>[0, 0, 0, 0, 0, 0, 0, 0, 0, 0, 0, 0, 0, 0, 0, ...</td>\n",
       "      <td>[0, 0, 0, 0, 0, 0, 0, 0, 0, 0, 0, 0, 0, 0, 0, ...</td>\n",
       "    </tr>\n",
       "    <tr>\n",
       "      <th>1</th>\n",
       "      <td>2</td>\n",
       "      <td>tt0113497</td>\n",
       "      <td>8844</td>\n",
       "      <td>Jumanji</td>\n",
       "      <td>[Adventure, Comedy, Family]</td>\n",
       "      <td>[0, 0, 1, 0, 0, 1, 0, 0, 0, 1, 0, 0, 0, 0, 0, ...</td>\n",
       "      <td>7.0</td>\n",
       "      <td>327695</td>\n",
       "      <td>[Robin Williams, Jonathan Hyde, Kirsten Dunst,...</td>\n",
       "      <td>[Joe Johnston]</td>\n",
       "      <td>[board game, disappearance, based on a childre...</td>\n",
       "      <td>1105</td>\n",
       "      <td>6.6</td>\n",
       "      <td>[0, 0, 0, 0, 0, 0, 0, 0, 0, 0, 0, 0, 0, 0, 0, ...</td>\n",
       "      <td>[0, 0, 0, 0, 0, 0, 0, 0, 0, 0, 0, 0, 0, 0, 0, ...</td>\n",
       "      <td>[0, 0, 0, 0, 0, 0, 0, 0, 0, 0, 0, 0, 0, 0, 0, ...</td>\n",
       "    </tr>\n",
       "    <tr>\n",
       "      <th>2</th>\n",
       "      <td>3</td>\n",
       "      <td>tt0113228</td>\n",
       "      <td>15602</td>\n",
       "      <td>Grumpier Old Men</td>\n",
       "      <td>[Comedy, Romance]</td>\n",
       "      <td>[0, 0, 0, 0, 0, 1, 0, 0, 0, 0, 0, 0, 0, 0, 0, ...</td>\n",
       "      <td>6.7</td>\n",
       "      <td>26209</td>\n",
       "      <td>[Walter Matthau, Jack Lemmon, Ann-Margret, Sop...</td>\n",
       "      <td>[Howard Deutch]</td>\n",
       "      <td>[fishing, best friend, duringcreditsstinger, o...</td>\n",
       "      <td>45</td>\n",
       "      <td>6.7</td>\n",
       "      <td>[0, 0, 0, 0, 0, 0, 0, 0, 0, 0, 0, 0, 0, 0, 0, ...</td>\n",
       "      <td>[0, 0, 0, 0, 0, 0, 0, 0, 0, 0, 0, 0, 0, 0, 0, ...</td>\n",
       "      <td>[0, 0, 0, 0, 0, 0, 0, 0, 0, 0, 0, 0, 0, 0, 0, ...</td>\n",
       "    </tr>\n",
       "    <tr>\n",
       "      <th>3</th>\n",
       "      <td>4</td>\n",
       "      <td>tt0114885</td>\n",
       "      <td>31357</td>\n",
       "      <td>Waiting to Exhale</td>\n",
       "      <td>[Comedy, Drama, Romance]</td>\n",
       "      <td>[0, 0, 0, 0, 0, 1, 0, 0, 1, 0, 0, 0, 0, 0, 0, ...</td>\n",
       "      <td>6.0</td>\n",
       "      <td>10547</td>\n",
       "      <td>[Whitney Houston, Angela Bassett, Loretta Devi...</td>\n",
       "      <td>[Forest Whitaker]</td>\n",
       "      <td>[based on novel, interracial relationship, sin...</td>\n",
       "      <td>18</td>\n",
       "      <td>6.1</td>\n",
       "      <td>[0, 0, 0, 0, 0, 0, 0, 0, 0, 0, 0, 0, 0, 0, 0, ...</td>\n",
       "      <td>[0, 0, 0, 0, 0, 0, 0, 0, 0, 0, 0, 0, 0, 0, 0, ...</td>\n",
       "      <td>[0, 0, 0, 0, 0, 0, 0, 0, 0, 0, 0, 0, 0, 0, 0, ...</td>\n",
       "    </tr>\n",
       "    <tr>\n",
       "      <th>4</th>\n",
       "      <td>5</td>\n",
       "      <td>tt0113041</td>\n",
       "      <td>11862</td>\n",
       "      <td>Father of the Bride Part II</td>\n",
       "      <td>[Comedy, Family, Romance]</td>\n",
       "      <td>[0, 0, 0, 0, 0, 1, 0, 0, 0, 1, 0, 0, 0, 0, 0, ...</td>\n",
       "      <td>6.1</td>\n",
       "      <td>36802</td>\n",
       "      <td>[Steve Martin, Diane Keaton, Martin Short, Kim...</td>\n",
       "      <td>[Charles Shyer]</td>\n",
       "      <td>[baby, midlife crisis, confidence, aging, daug...</td>\n",
       "      <td>82</td>\n",
       "      <td>5.7</td>\n",
       "      <td>[0, 0, 0, 0, 0, 0, 0, 0, 0, 0, 0, 0, 0, 0, 0, ...</td>\n",
       "      <td>[0, 0, 0, 0, 0, 0, 0, 0, 0, 0, 0, 0, 0, 0, 0, ...</td>\n",
       "      <td>[0, 0, 0, 0, 0, 0, 0, 0, 0, 0, 0, 0, 0, 0, 0, ...</td>\n",
       "    </tr>\n",
       "  </tbody>\n",
       "</table>\n",
       "</div>"
      ],
      "text/plain": [
       "   movieLensID     IMDbID  TMDbID                        title  \\\n",
       "0            1  tt0114709     862                    Toy Story   \n",
       "1            2  tt0113497    8844                      Jumanji   \n",
       "2            3  tt0113228   15602             Grumpier Old Men   \n",
       "3            4  tt0114885   31357            Waiting to Exhale   \n",
       "4            5  tt0113041   11862  Father of the Bride Part II   \n",
       "\n",
       "                           genres  \\\n",
       "0  [Adventure, Animation, Comedy]   \n",
       "1     [Adventure, Comedy, Family]   \n",
       "2               [Comedy, Romance]   \n",
       "3        [Comedy, Drama, Romance]   \n",
       "4       [Comedy, Family, Romance]   \n",
       "\n",
       "                                       genres_binary  IMDb_rating  IMDb_votes  \\\n",
       "0  [0, 0, 1, 1, 0, 1, 0, 0, 0, 0, 0, 0, 0, 0, 0, ...          8.3      936979   \n",
       "1  [0, 0, 1, 0, 0, 1, 0, 0, 0, 1, 0, 0, 0, 0, 0, ...          7.0      327695   \n",
       "2  [0, 0, 0, 0, 0, 1, 0, 0, 0, 0, 0, 0, 0, 0, 0, ...          6.7       26209   \n",
       "3  [0, 0, 0, 0, 0, 1, 0, 0, 1, 0, 0, 0, 0, 0, 0, ...          6.0       10547   \n",
       "4  [0, 0, 0, 0, 0, 1, 0, 0, 0, 1, 0, 0, 0, 0, 0, ...          6.1       36802   \n",
       "\n",
       "                                                cast           director  \\\n",
       "0  [Tom Hanks, Tim Allen, Don Rickles, Jim Varney...    [John Lasseter]   \n",
       "1  [Robin Williams, Jonathan Hyde, Kirsten Dunst,...     [Joe Johnston]   \n",
       "2  [Walter Matthau, Jack Lemmon, Ann-Margret, Sop...    [Howard Deutch]   \n",
       "3  [Whitney Houston, Angela Bassett, Loretta Devi...  [Forest Whitaker]   \n",
       "4  [Steve Martin, Diane Keaton, Martin Short, Kim...    [Charles Shyer]   \n",
       "\n",
       "                                            keywords  TMDb_votes  TMDb_rating  \\\n",
       "0          [jealousy, toy, boy, friendship, friends]        3141          7.5   \n",
       "1  [board game, disappearance, based on a childre...        1105          6.6   \n",
       "2  [fishing, best friend, duringcreditsstinger, o...          45          6.7   \n",
       "3  [based on novel, interracial relationship, sin...          18          6.1   \n",
       "4  [baby, midlife crisis, confidence, aging, daug...          82          5.7   \n",
       "\n",
       "                                         cast_binary  \\\n",
       "0  [0, 0, 0, 0, 0, 0, 0, 0, 0, 0, 0, 0, 0, 0, 0, ...   \n",
       "1  [0, 0, 0, 0, 0, 0, 0, 0, 0, 0, 0, 0, 0, 0, 0, ...   \n",
       "2  [0, 0, 0, 0, 0, 0, 0, 0, 0, 0, 0, 0, 0, 0, 0, ...   \n",
       "3  [0, 0, 0, 0, 0, 0, 0, 0, 0, 0, 0, 0, 0, 0, 0, ...   \n",
       "4  [0, 0, 0, 0, 0, 0, 0, 0, 0, 0, 0, 0, 0, 0, 0, ...   \n",
       "\n",
       "                                     keywords_binary  \\\n",
       "0  [0, 0, 0, 0, 0, 0, 0, 0, 0, 0, 0, 0, 0, 0, 0, ...   \n",
       "1  [0, 0, 0, 0, 0, 0, 0, 0, 0, 0, 0, 0, 0, 0, 0, ...   \n",
       "2  [0, 0, 0, 0, 0, 0, 0, 0, 0, 0, 0, 0, 0, 0, 0, ...   \n",
       "3  [0, 0, 0, 0, 0, 0, 0, 0, 0, 0, 0, 0, 0, 0, 0, ...   \n",
       "4  [0, 0, 0, 0, 0, 0, 0, 0, 0, 0, 0, 0, 0, 0, 0, ...   \n",
       "\n",
       "                                     director_binary  \n",
       "0  [0, 0, 0, 0, 0, 0, 0, 0, 0, 0, 0, 0, 0, 0, 0, ...  \n",
       "1  [0, 0, 0, 0, 0, 0, 0, 0, 0, 0, 0, 0, 0, 0, 0, ...  \n",
       "2  [0, 0, 0, 0, 0, 0, 0, 0, 0, 0, 0, 0, 0, 0, 0, ...  \n",
       "3  [0, 0, 0, 0, 0, 0, 0, 0, 0, 0, 0, 0, 0, 0, 0, ...  \n",
       "4  [0, 0, 0, 0, 0, 0, 0, 0, 0, 0, 0, 0, 0, 0, 0, ...  "
      ]
     },
     "execution_count": 35,
     "metadata": {},
     "output_type": "execute_result"
    }
   ],
   "source": [
    "imdb_tmdb_movieLens.head()"
   ]
  },
  {
   "cell_type": "markdown",
   "id": "ba959d21",
   "metadata": {},
   "source": [
    "### filter ratings data"
   ]
  },
  {
   "cell_type": "code",
   "execution_count": 36,
   "id": "5015f63b",
   "metadata": {},
   "outputs": [],
   "source": [
    "movieLensIDs = imdb_tmdb_movieLens.movieLensID.unique()\n",
    "for i in ratings_linked.index:\n",
    "    movieID = ratings_linked['movieLensID'][i]\n",
    "    if movieID not in movieLensIDs:\n",
    "        ratings_linked = ratings_linked.drop(i)"
   ]
  },
  {
   "cell_type": "markdown",
   "id": "831cf88d",
   "metadata": {},
   "source": [
    "## final data sets to use"
   ]
  },
  {
   "cell_type": "markdown",
   "id": "06e2f817",
   "metadata": {},
   "source": [
    "##### links\n",
    "movieLensID, IMDbID, TMDbID\n",
    "##### ratings_linked\n",
    "userID, movieLensID, rating, IMDbID, TMDbID\n",
    "##### imdb_tmdb\n",
    "IMDbID, title, genres, genres_binary, IMDb_rating, IMDb_votes, TMDbID, cast, director, keywords, TMDb_votes, TMDb_rating, cast_binary, keywords_binary, director_binary\n",
    "##### imdb_tmdb_movieLens\n",
    "movieLensID, IMDbID, TMDbID, title, genres, genres_binary, IMDb_rating, IMDb_votes, cast, director, keywords, TMDb_votes, TMDb_rating, cast_binary, keywords_binary, director_binary"
   ]
  },
  {
   "cell_type": "code",
   "execution_count": 48,
   "id": "15608c0b",
   "metadata": {},
   "outputs": [],
   "source": [
    "import dataframe_image as dfi"
   ]
  },
  {
   "cell_type": "code",
   "execution_count": null,
   "id": "e0ac4bf3",
   "metadata": {},
   "outputs": [],
   "source": [
    "#export all datasets as images for report\n",
    "dfi.export(links.head(), 'links.png')\n",
    "dfi.export(ratings.head(), 'ratings.png')\n",
    "dfi.export(ratings_linked.head(), 'ratings_linked.png')\n",
    "dfi.export(imdb_df.head(), 'imdb.png')\n",
    "dfi.export(imdb_ratings_merged.head(), 'imdb_ratings.png')\n",
    "dfi.export(tmdb_df.head(), 'tmdb.png')\n",
    "dfi.export(imdb_tmdb.head(), 'imdb_tmdb.png')\n",
    "dfi.export(imdb_tmdb_movieLens.head(), 'imdb_tmdb_movieLens.png')"
   ]
  },
  {
   "cell_type": "markdown",
   "id": "8225b790",
   "metadata": {},
   "source": [
    "## KNN"
   ]
  },
  {
   "cell_type": "code",
   "execution_count": 37,
   "id": "d4ae2b7b",
   "metadata": {},
   "outputs": [],
   "source": [
    "from scipy import spatial\n",
    "import numpy as np\n",
    "from sklearn.metrics import mean_squared_error as mse"
   ]
  },
  {
   "cell_type": "code",
   "execution_count": 38,
   "id": "a2ddf880",
   "metadata": {},
   "outputs": [],
   "source": [
    "def similarity(attributeList, df1, df2, i, j):\n",
    "    sim = 0\n",
    "    rmse = 0\n",
    "    for attribute in attributeList:\n",
    "        a = df1[attribute][i]\n",
    "        b = df2[attribute][j]\n",
    "        sim += spatial.distance.cosine(a,b)\n",
    "        rmse += np.sqrt(mse(a,b))\n",
    "    sim = sim/4\n",
    "    rmse = rmse/4\n",
    "    return sim, rmse"
   ]
  },
  {
   "cell_type": "code",
   "execution_count": 39,
   "id": "93fec759",
   "metadata": {},
   "outputs": [],
   "source": [
    "def recommend_movies(user_df, k, attributes):\n",
    "    neighbors = pd.DataFrame(columns=['IMDbID','similarity','RMSE'])\n",
    "    \n",
    "    for i in user_df.index:\n",
    "        user_movieID = user_df['IMDbID'][i]\n",
    "        \n",
    "        for j in imdb_tmdb.index:\n",
    "            movieID = imdb_tmdb['IMDbID'][j]\n",
    "            \n",
    "            if movieID not in user_movies:\n",
    "                sim, rmse = similarity(attributes, user_df, imdb_tmdb, i, j)\n",
    "                neighbors = neighbors.append({'IMDbID':movieID, 'similarity':sim, 'RMSE':rmse}, ignore_index=True)\n",
    "    \n",
    "    neighbors = neighbors.sort_values(by='similarity')\n",
    "    neighbors = neighbors.head(k)\n",
    "    return neighbors"
   ]
  },
  {
   "cell_type": "markdown",
   "id": "16526ef7",
   "metadata": {},
   "source": [
    "### testing !"
   ]
  },
  {
   "cell_type": "code",
   "execution_count": 54,
   "id": "2ae18e5c",
   "metadata": {},
   "outputs": [
    {
     "name": "stdout",
     "output_type": "stream",
     "text": [
      "Hello! What is your user id? (num between 1 and 610): 225\n",
      "You've rated 71 movies. How many of your top rated movies would you like us to compare?: 5\n",
      "How many movies would you like us to recommend?: 10\n"
     ]
    }
   ],
   "source": [
    "#inputs\n",
    "userID = int(input(\"Hello! What is your user id? (num between 1 and 610): \"))\n",
    "user_ratings = ratings_linked[ratings_linked.userID == userID].sort_values(by='rating',ascending=False)\n",
    "user_movies = user_ratings.IMDbID.unique()\n",
    "\n",
    "topMovies = int(input(\"You've rated \" + str(len(user_ratings)) + \n",
    "                      \" movies. How many of your top rated movies would you like us to compare?: \"))\n",
    "user_ratings_ids = user_ratings.drop(['userID','movieLensID','rating','TMDbID'],axis=1).head(topMovies)\n",
    "user_top = pd.merge(user_ratings_ids, imdb_tmdb_movieLens, on='IMDbID', how='inner')\n",
    "\n",
    "recommendMovies = int(input(\"How many movies would you like us to recommend?: \"))\n",
    "\n",
    "attributes = ['genres_binary','cast_binary','director_binary','keywords_binary']"
   ]
  },
  {
   "cell_type": "code",
   "execution_count": 55,
   "id": "9595c002",
   "metadata": {},
   "outputs": [
    {
     "data": {
      "text/html": [
       "<div>\n",
       "<style scoped>\n",
       "    .dataframe tbody tr th:only-of-type {\n",
       "        vertical-align: middle;\n",
       "    }\n",
       "\n",
       "    .dataframe tbody tr th {\n",
       "        vertical-align: top;\n",
       "    }\n",
       "\n",
       "    .dataframe thead th {\n",
       "        text-align: right;\n",
       "    }\n",
       "</style>\n",
       "<table border=\"1\" class=\"dataframe\">\n",
       "  <thead>\n",
       "    <tr style=\"text-align: right;\">\n",
       "      <th></th>\n",
       "      <th>IMDbID</th>\n",
       "      <th>similarity</th>\n",
       "      <th>RMSE</th>\n",
       "    </tr>\n",
       "  </thead>\n",
       "  <tbody>\n",
       "    <tr>\n",
       "      <th>4932</th>\n",
       "      <td>tt0424345</td>\n",
       "      <td>0.216667</td>\n",
       "      <td>0.008196</td>\n",
       "    </tr>\n",
       "    <tr>\n",
       "      <th>3829</th>\n",
       "      <td>tt0261392</td>\n",
       "      <td>0.300000</td>\n",
       "      <td>0.010529</td>\n",
       "    </tr>\n",
       "    <tr>\n",
       "      <th>11514</th>\n",
       "      <td>tt0104694</td>\n",
       "      <td>0.483333</td>\n",
       "      <td>0.078746</td>\n",
       "    </tr>\n",
       "    <tr>\n",
       "      <th>12212</th>\n",
       "      <td>tt0117372</td>\n",
       "      <td>0.500000</td>\n",
       "      <td>0.014638</td>\n",
       "    </tr>\n",
       "    <tr>\n",
       "      <th>6040</th>\n",
       "      <td>tt1007028</td>\n",
       "      <td>0.523223</td>\n",
       "      <td>0.059516</td>\n",
       "    </tr>\n",
       "    <tr>\n",
       "      <th>11872</th>\n",
       "      <td>tt0110971</td>\n",
       "      <td>0.545876</td>\n",
       "      <td>0.061062</td>\n",
       "    </tr>\n",
       "    <tr>\n",
       "      <th>2900</th>\n",
       "      <td>tt0118842</td>\n",
       "      <td>0.555662</td>\n",
       "      <td>0.078746</td>\n",
       "    </tr>\n",
       "    <tr>\n",
       "      <th>2610</th>\n",
       "      <td>tt0113749</td>\n",
       "      <td>0.573223</td>\n",
       "      <td>0.060121</td>\n",
       "    </tr>\n",
       "    <tr>\n",
       "      <th>12953</th>\n",
       "      <td>tt0200027</td>\n",
       "      <td>0.583333</td>\n",
       "      <td>0.080291</td>\n",
       "    </tr>\n",
       "    <tr>\n",
       "      <th>38327</th>\n",
       "      <td>tt0077766</td>\n",
       "      <td>0.595876</td>\n",
       "      <td>0.062843</td>\n",
       "    </tr>\n",
       "  </tbody>\n",
       "</table>\n",
       "</div>"
      ],
      "text/plain": [
       "          IMDbID  similarity      RMSE\n",
       "4932   tt0424345    0.216667  0.008196\n",
       "3829   tt0261392    0.300000  0.010529\n",
       "11514  tt0104694    0.483333  0.078746\n",
       "12212  tt0117372    0.500000  0.014638\n",
       "6040   tt1007028    0.523223  0.059516\n",
       "11872  tt0110971    0.545876  0.061062\n",
       "2900   tt0118842    0.555662  0.078746\n",
       "2610   tt0113749    0.573223  0.060121\n",
       "12953  tt0200027    0.583333  0.080291\n",
       "38327  tt0077766    0.595876  0.062843"
      ]
     },
     "execution_count": 55,
     "metadata": {},
     "output_type": "execute_result"
    }
   ],
   "source": [
    "#run recommender\n",
    "recommend = recommend_movies(user_top, recommendMovies, attributes)\n",
    "recommend"
   ]
  },
  {
   "cell_type": "code",
   "execution_count": 56,
   "id": "e9d46b47",
   "metadata": {},
   "outputs": [
    {
     "data": {
      "text/html": [
       "<div>\n",
       "<style scoped>\n",
       "    .dataframe tbody tr th:only-of-type {\n",
       "        vertical-align: middle;\n",
       "    }\n",
       "\n",
       "    .dataframe tbody tr th {\n",
       "        vertical-align: top;\n",
       "    }\n",
       "\n",
       "    .dataframe thead th {\n",
       "        text-align: right;\n",
       "    }\n",
       "</style>\n",
       "<table border=\"1\" class=\"dataframe\">\n",
       "  <thead>\n",
       "    <tr style=\"text-align: right;\">\n",
       "      <th></th>\n",
       "      <th>IMDbID</th>\n",
       "      <th>title</th>\n",
       "      <th>genres</th>\n",
       "      <th>cast</th>\n",
       "      <th>director</th>\n",
       "      <th>keywords</th>\n",
       "    </tr>\n",
       "  </thead>\n",
       "  <tbody>\n",
       "    <tr>\n",
       "      <th>0</th>\n",
       "      <td>tt0109445</td>\n",
       "      <td>Clerks</td>\n",
       "      <td>[Comedy]</td>\n",
       "      <td>[Brian O'Halloran, Jeff Anderson, Jason Mewes,...</td>\n",
       "      <td>[Kevin Smith]</td>\n",
       "      <td>[salesclerk, loser, aftercreditsstinger]</td>\n",
       "    </tr>\n",
       "    <tr>\n",
       "      <th>1</th>\n",
       "      <td>tt0094737</td>\n",
       "      <td>Big</td>\n",
       "      <td>[Comedy, Drama, Fantasy]</td>\n",
       "      <td>[Tom Hanks, Elizabeth Perkins, Robert Loggia, ...</td>\n",
       "      <td>[Penny Marshall]</td>\n",
       "      <td>[baseball, co-worker, bronx, pinball machine, ...</td>\n",
       "    </tr>\n",
       "    <tr>\n",
       "      <th>2</th>\n",
       "      <td>tt0080761</td>\n",
       "      <td>Friday the 13th</td>\n",
       "      <td>[Horror, Mystery, Thriller]</td>\n",
       "      <td>[Betsy Palmer, Adrienne King, Harry Crosby, La...</td>\n",
       "      <td>[Sean S. Cunningham]</td>\n",
       "      <td>[drowning, lake, cabin, cult, revenge]</td>\n",
       "    </tr>\n",
       "    <tr>\n",
       "      <th>3</th>\n",
       "      <td>tt0113118</td>\n",
       "      <td>Friday</td>\n",
       "      <td>[Comedy, Drama]</td>\n",
       "      <td>[Ice Cube, Chris Tucker, Nia Long, Tommy 'Tiny...</td>\n",
       "      <td>[F. Gary Gray]</td>\n",
       "      <td>[rap, parents kids relationship, rapper, job]</td>\n",
       "    </tr>\n",
       "    <tr>\n",
       "      <th>4</th>\n",
       "      <td>tt0073195</td>\n",
       "      <td>Jaws</td>\n",
       "      <td>[Adventure, Thriller]</td>\n",
       "      <td>[Roy Scheider, Robert Shaw, Richard Dreyfuss, ...</td>\n",
       "      <td>[Steven Spielberg]</td>\n",
       "      <td>[fishing, atlantic ocean, bathing, shipwreck, ...</td>\n",
       "    </tr>\n",
       "  </tbody>\n",
       "</table>\n",
       "</div>"
      ],
      "text/plain": [
       "      IMDbID            title                       genres  \\\n",
       "0  tt0109445           Clerks                     [Comedy]   \n",
       "1  tt0094737              Big     [Comedy, Drama, Fantasy]   \n",
       "2  tt0080761  Friday the 13th  [Horror, Mystery, Thriller]   \n",
       "3  tt0113118           Friday              [Comedy, Drama]   \n",
       "4  tt0073195             Jaws        [Adventure, Thriller]   \n",
       "\n",
       "                                                cast              director  \\\n",
       "0  [Brian O'Halloran, Jeff Anderson, Jason Mewes,...         [Kevin Smith]   \n",
       "1  [Tom Hanks, Elizabeth Perkins, Robert Loggia, ...      [Penny Marshall]   \n",
       "2  [Betsy Palmer, Adrienne King, Harry Crosby, La...  [Sean S. Cunningham]   \n",
       "3  [Ice Cube, Chris Tucker, Nia Long, Tommy 'Tiny...        [F. Gary Gray]   \n",
       "4  [Roy Scheider, Robert Shaw, Richard Dreyfuss, ...    [Steven Spielberg]   \n",
       "\n",
       "                                            keywords  \n",
       "0           [salesclerk, loser, aftercreditsstinger]  \n",
       "1  [baseball, co-worker, bronx, pinball machine, ...  \n",
       "2             [drowning, lake, cabin, cult, revenge]  \n",
       "3      [rap, parents kids relationship, rapper, job]  \n",
       "4  [fishing, atlantic ocean, bathing, shipwreck, ...  "
      ]
     },
     "execution_count": 56,
     "metadata": {},
     "output_type": "execute_result"
    }
   ],
   "source": [
    "#user's top movies output\n",
    "user_top_output = user_top.drop(['movieLensID','TMDbID','genres_binary','IMDb_rating','IMDb_votes','TMDb_votes',\n",
    "                                 'TMDb_rating','cast_binary','keywords_binary','director_binary'],axis=1)\n",
    "user_top_output"
   ]
  },
  {
   "cell_type": "code",
   "execution_count": 57,
   "id": "88792fde",
   "metadata": {},
   "outputs": [
    {
     "data": {
      "text/html": [
       "<div>\n",
       "<style scoped>\n",
       "    .dataframe tbody tr th:only-of-type {\n",
       "        vertical-align: middle;\n",
       "    }\n",
       "\n",
       "    .dataframe tbody tr th {\n",
       "        vertical-align: top;\n",
       "    }\n",
       "\n",
       "    .dataframe thead th {\n",
       "        text-align: right;\n",
       "    }\n",
       "</style>\n",
       "<table border=\"1\" class=\"dataframe\">\n",
       "  <thead>\n",
       "    <tr style=\"text-align: right;\">\n",
       "      <th></th>\n",
       "      <th>IMDbID</th>\n",
       "      <th>title</th>\n",
       "      <th>genres</th>\n",
       "      <th>cast</th>\n",
       "      <th>director</th>\n",
       "      <th>keywords</th>\n",
       "    </tr>\n",
       "  </thead>\n",
       "  <tbody>\n",
       "    <tr>\n",
       "      <th>0</th>\n",
       "      <td>tt0424345</td>\n",
       "      <td>Clerks II</td>\n",
       "      <td>[Comedy]</td>\n",
       "      <td>[Brian O'Halloran, Jeff Anderson, Jason Mewes,...</td>\n",
       "      <td>[Kevin Smith]</td>\n",
       "      <td>[independent film, aftercreditsstinger, during...</td>\n",
       "    </tr>\n",
       "    <tr>\n",
       "      <th>1</th>\n",
       "      <td>tt0261392</td>\n",
       "      <td>Jay and Silent Bob Strike Back</td>\n",
       "      <td>[Comedy]</td>\n",
       "      <td>[Kevin Smith, Jason Mewes, Ben Affleck, Jeff A...</td>\n",
       "      <td>[Kevin Smith]</td>\n",
       "      <td>[film making, jay and silent bob, self mocking...</td>\n",
       "    </tr>\n",
       "    <tr>\n",
       "      <th>2</th>\n",
       "      <td>tt0104694</td>\n",
       "      <td>A League of Their Own</td>\n",
       "      <td>[Comedy, Drama, Sport]</td>\n",
       "      <td>[Tom Hanks, Geena Davis, Madonna, Lori Petty, ...</td>\n",
       "      <td>[Penny Marshall]</td>\n",
       "      <td>[baseball, world war ii, sport, baseball playe...</td>\n",
       "    </tr>\n",
       "    <tr>\n",
       "      <th>3</th>\n",
       "      <td>tt0117372</td>\n",
       "      <td>The Preacher's Wife</td>\n",
       "      <td>[Comedy, Drama, Fantasy]</td>\n",
       "      <td>[Denzel Washington, Whitney Houston, Courtney ...</td>\n",
       "      <td>[Penny Marshall]</td>\n",
       "      <td>[angel, church choir, gospel, reverend, crisis...</td>\n",
       "    </tr>\n",
       "    <tr>\n",
       "      <th>4</th>\n",
       "      <td>tt1007028</td>\n",
       "      <td>Zack and Miri Make a Porno</td>\n",
       "      <td>[Comedy, Romance]</td>\n",
       "      <td>[Seth Rogen, Elizabeth Banks, Jennifer Schwalb...</td>\n",
       "      <td>[Kevin Smith]</td>\n",
       "      <td>[pornography, love of one's life, platonic lov...</td>\n",
       "    </tr>\n",
       "    <tr>\n",
       "      <th>5</th>\n",
       "      <td>tt0110971</td>\n",
       "      <td>Renaissance Man</td>\n",
       "      <td>[Comedy, Drama]</td>\n",
       "      <td>[Danny DeVito, Mark Wahlberg, Gregory Hines, J...</td>\n",
       "      <td>[Penny Marshall]</td>\n",
       "      <td>[vietnam veteran, commercial, advertising expe...</td>\n",
       "    </tr>\n",
       "    <tr>\n",
       "      <th>6</th>\n",
       "      <td>tt0118842</td>\n",
       "      <td>Chasing Amy</td>\n",
       "      <td>[Comedy, Drama, Romance]</td>\n",
       "      <td>[Ben Affleck, Joey Lauren Adams, Jason Lee, Dw...</td>\n",
       "      <td>[Kevin Smith]</td>\n",
       "      <td>[new jersey, coming out, love of one's life, b...</td>\n",
       "    </tr>\n",
       "    <tr>\n",
       "      <th>7</th>\n",
       "      <td>tt0113749</td>\n",
       "      <td>Mallrats</td>\n",
       "      <td>[Comedy, Romance]</td>\n",
       "      <td>[Jason Lee, Jeremy London, Shannen Doherty, Cl...</td>\n",
       "      <td>[Kevin Smith]</td>\n",
       "      <td>[sex, game show, slacker, comic, shopping]</td>\n",
       "    </tr>\n",
       "    <tr>\n",
       "      <th>8</th>\n",
       "      <td>tt0200027</td>\n",
       "      <td>Riding in Cars with Boys</td>\n",
       "      <td>[Biography, Comedy, Drama]</td>\n",
       "      <td>[Drew Barrymore, Steve Zahn, Adam Garcia, Brit...</td>\n",
       "      <td>[Penny Marshall]</td>\n",
       "      <td>[baby, becoming an adult, puberty, dream, drug...</td>\n",
       "    </tr>\n",
       "    <tr>\n",
       "      <th>9</th>\n",
       "      <td>tt0077766</td>\n",
       "      <td>Jaws 2</td>\n",
       "      <td>[Adventure, Horror, Thriller]</td>\n",
       "      <td>[Roy Scheider, Lorraine Gary, Murray Hamilton,...</td>\n",
       "      <td>[Jeannot Szwarc]</td>\n",
       "      <td>[mayor, island, police chief, sailing, boat ac...</td>\n",
       "    </tr>\n",
       "  </tbody>\n",
       "</table>\n",
       "</div>"
      ],
      "text/plain": [
       "      IMDbID                           title                         genres  \\\n",
       "0  tt0424345                       Clerks II                       [Comedy]   \n",
       "1  tt0261392  Jay and Silent Bob Strike Back                       [Comedy]   \n",
       "2  tt0104694           A League of Their Own         [Comedy, Drama, Sport]   \n",
       "3  tt0117372             The Preacher's Wife       [Comedy, Drama, Fantasy]   \n",
       "4  tt1007028      Zack and Miri Make a Porno              [Comedy, Romance]   \n",
       "5  tt0110971                 Renaissance Man                [Comedy, Drama]   \n",
       "6  tt0118842                     Chasing Amy       [Comedy, Drama, Romance]   \n",
       "7  tt0113749                        Mallrats              [Comedy, Romance]   \n",
       "8  tt0200027        Riding in Cars with Boys     [Biography, Comedy, Drama]   \n",
       "9  tt0077766                          Jaws 2  [Adventure, Horror, Thriller]   \n",
       "\n",
       "                                                cast          director  \\\n",
       "0  [Brian O'Halloran, Jeff Anderson, Jason Mewes,...     [Kevin Smith]   \n",
       "1  [Kevin Smith, Jason Mewes, Ben Affleck, Jeff A...     [Kevin Smith]   \n",
       "2  [Tom Hanks, Geena Davis, Madonna, Lori Petty, ...  [Penny Marshall]   \n",
       "3  [Denzel Washington, Whitney Houston, Courtney ...  [Penny Marshall]   \n",
       "4  [Seth Rogen, Elizabeth Banks, Jennifer Schwalb...     [Kevin Smith]   \n",
       "5  [Danny DeVito, Mark Wahlberg, Gregory Hines, J...  [Penny Marshall]   \n",
       "6  [Ben Affleck, Joey Lauren Adams, Jason Lee, Dw...     [Kevin Smith]   \n",
       "7  [Jason Lee, Jeremy London, Shannen Doherty, Cl...     [Kevin Smith]   \n",
       "8  [Drew Barrymore, Steve Zahn, Adam Garcia, Brit...  [Penny Marshall]   \n",
       "9  [Roy Scheider, Lorraine Gary, Murray Hamilton,...  [Jeannot Szwarc]   \n",
       "\n",
       "                                            keywords  \n",
       "0  [independent film, aftercreditsstinger, during...  \n",
       "1  [film making, jay and silent bob, self mocking...  \n",
       "2  [baseball, world war ii, sport, baseball playe...  \n",
       "3  [angel, church choir, gospel, reverend, crisis...  \n",
       "4  [pornography, love of one's life, platonic lov...  \n",
       "5  [vietnam veteran, commercial, advertising expe...  \n",
       "6  [new jersey, coming out, love of one's life, b...  \n",
       "7         [sex, game show, slacker, comic, shopping]  \n",
       "8  [baby, becoming an adult, puberty, dream, drug...  \n",
       "9  [mayor, island, police chief, sailing, boat ac...  "
      ]
     },
     "execution_count": 57,
     "metadata": {},
     "output_type": "execute_result"
    }
   ],
   "source": [
    "#recommender output\n",
    "recommended_links = pd.merge(recommend, links, on='IMDbID', how='inner')\n",
    "recommended = pd.merge(recommended_links, imdb_tmdb_movieLens, on='IMDbID', how='inner')\n",
    "recommended_output = recommended.drop(['similarity','RMSE','movieLensID_x','TMDbID_x','movieLensID_y','TMDbID_y',\n",
    "                                       'genres_binary','IMDb_rating','IMDb_votes','TMDb_votes','TMDb_rating',\n",
    "                                       'cast_binary','keywords_binary','director_binary'],axis=1)\n",
    "recommended_output"
   ]
  },
  {
   "cell_type": "code",
   "execution_count": null,
   "id": "d2585012",
   "metadata": {},
   "outputs": [],
   "source": [
    "dfi.export(recommend, 'recommended.png')\n",
    "dfi.export(user_top_output, 'user_top_output.png')\n",
    "dfi.export(recommended_output, 'recommended_output.png')"
   ]
  },
  {
   "cell_type": "markdown",
   "id": "f809ae9e",
   "metadata": {},
   "source": [
    "## results"
   ]
  },
  {
   "cell_type": "markdown",
   "id": "fa79cd3a",
   "metadata": {},
   "source": [
    "### evaluation metrics"
   ]
  },
  {
   "cell_type": "code",
   "execution_count": 44,
   "id": "143076d1",
   "metadata": {},
   "outputs": [],
   "source": [
    "from sklearn.metrics import f1_score\n",
    "from sklearn.metrics import accuracy_score\n",
    "from sklearn.metrics import precision_score\n",
    "from sklearn.metrics import recall_score"
   ]
  },
  {
   "cell_type": "code",
   "execution_count": 45,
   "id": "01da6909",
   "metadata": {},
   "outputs": [],
   "source": [
    "def eval_metrics(user_df, recommended_df, attributes):\n",
    "    \n",
    "    count = 0\n",
    "    f1 = 0\n",
    "    acc = 0\n",
    "    prec = 0\n",
    "    recall = 0\n",
    "\n",
    "    for i in user_df.index:\n",
    "        \n",
    "        for j in recommended_df.index:\n",
    "            \n",
    "            f1_a = 0\n",
    "            acc_a = 0\n",
    "            prec_a = 0\n",
    "            recall_a = 0\n",
    "            \n",
    "            for attribute in attributes:\n",
    "                \n",
    "                y_true = user_df.at[i, attribute]\n",
    "                y_pred = recommended_df.at[j, attribute]\n",
    "                \n",
    "                f1_a += f1_score(y_true, y_pred, average='weighted')\n",
    "                acc_a += accuracy_score(y_true, y_pred)\n",
    "                prec_a += precision_score(y_true, y_pred, average='weighted')\n",
    "                recall_a += recall_score(y_true, y_pred, average='weighted')\n",
    "            \n",
    "            f1 += (f1_a/len(attributes))\n",
    "            acc += (acc_a/len(attributes))\n",
    "            prec += (prec_a/len(attributes))\n",
    "            recall += (recall_a/len(attributes))\n",
    "            count += 1\n",
    "    \n",
    "    f1 = f1/count\n",
    "    acc = acc/count\n",
    "    prec = prec/count\n",
    "    recall = recall/count\n",
    "    \n",
    "    return f1, acc, prec, recall"
   ]
  },
  {
   "cell_type": "code",
   "execution_count": 46,
   "id": "d21f3c2d",
   "metadata": {},
   "outputs": [
    {
     "name": "stdout",
     "output_type": "stream",
     "text": [
      "F1 score: 0.9751964835896518\n",
      "Accuracy: 0.9752010635291732\n",
      "Precision: 0.9763319495131824\n",
      "Recall: 0.9752010635291732\n"
     ]
    }
   ],
   "source": [
    "metrics = eval_metrics(user_top, recommended, attributes)\n",
    "print(\"F1 score: \" + str(metrics[0]))\n",
    "print(\"Accuracy: \" + str(metrics[1]))\n",
    "print(\"Precision: \" + str(metrics[2]))\n",
    "print(\"Recall: \" + str(metrics[3]))"
   ]
  },
  {
   "cell_type": "markdown",
   "id": "251f164f",
   "metadata": {},
   "source": [
    "### testing multiple"
   ]
  },
  {
   "cell_type": "code",
   "execution_count": 47,
   "id": "5e772415",
   "metadata": {},
   "outputs": [],
   "source": [
    "import random"
   ]
  },
  {
   "cell_type": "code",
   "execution_count": 50,
   "id": "b5a139f6",
   "metadata": {},
   "outputs": [
    {
     "data": {
      "text/plain": [
       "[586, 521, 267, 37, 265]"
      ]
     },
     "execution_count": 50,
     "metadata": {},
     "output_type": "execute_result"
    }
   ],
   "source": [
    "#generate 5 random users\n",
    "users = [0,0,0,0,0]\n",
    "for i in range(len(users)):\n",
    "    users[i] = random.randint(1,610)\n",
    "users"
   ]
  },
  {
   "cell_type": "code",
   "execution_count": 51,
   "id": "0c7b2384",
   "metadata": {},
   "outputs": [],
   "source": [
    "#run recommender for each user\n",
    "recommender_metrics = pd.DataFrame(columns=['userID','f1','accuracy','precision','recall'])\n",
    "attributes = ['genres_binary','cast_binary','director_binary','keywords_binary']\n",
    "\n",
    "for user in users:\n",
    "    \n",
    "    #find user's top 5 rated movies\n",
    "    user_ratings = ratings_linked[ratings_linked.userID == user].sort_values(by='rating',ascending=False)\n",
    "    user_movies = user_ratings.IMDbID.unique()\n",
    "    user_ratings_ids = user_ratings.drop(['userID','movieLensID','rating','TMDbID'],axis=1).head(5)\n",
    "    user_top = pd.merge(user_ratings_ids, imdb_tmdb_movieLens, on='IMDbID', how='inner')\n",
    "    \n",
    "    #run recommender to recommend 10\n",
    "    recommend = recommend_movies(user_top, 10, attributes)\n",
    "    recommended_links = pd.merge(recommend, links, on='IMDbID', how='inner')\n",
    "    recommended = pd.merge(recommended_links, imdb_tmdb_movieLens, on='IMDbID', how='inner')\n",
    "    \n",
    "    #calculate evaluation metrics\n",
    "    metrics = eval_metrics(user_top, recommended, attributes)\n",
    "    \n",
    "    #append row with user id and metrics\n",
    "    recommender_metrics = recommender_metrics.append({'userID':user, 'f1':metrics[0], \n",
    "                                                      'accuracy':metrics[1], \n",
    "                                                      'precision':metrics[2], \n",
    "                                                      'recall':metrics[3]}, ignore_index=True)\n",
    "\n",
    "#convert userID column from float to int\n",
    "recommender_metrics.userID = recommender_metrics.userID.astype(int)"
   ]
  },
  {
   "cell_type": "code",
   "execution_count": 52,
   "id": "8cc1eaaa",
   "metadata": {},
   "outputs": [
    {
     "data": {
      "text/html": [
       "<div>\n",
       "<style scoped>\n",
       "    .dataframe tbody tr th:only-of-type {\n",
       "        vertical-align: middle;\n",
       "    }\n",
       "\n",
       "    .dataframe tbody tr th {\n",
       "        vertical-align: top;\n",
       "    }\n",
       "\n",
       "    .dataframe thead th {\n",
       "        text-align: right;\n",
       "    }\n",
       "</style>\n",
       "<table border=\"1\" class=\"dataframe\">\n",
       "  <thead>\n",
       "    <tr style=\"text-align: right;\">\n",
       "      <th></th>\n",
       "      <th>userID</th>\n",
       "      <th>f1</th>\n",
       "      <th>accuracy</th>\n",
       "      <th>precision</th>\n",
       "      <th>recall</th>\n",
       "    </tr>\n",
       "  </thead>\n",
       "  <tbody>\n",
       "    <tr>\n",
       "      <th>0</th>\n",
       "      <td>586</td>\n",
       "      <td>0.970253</td>\n",
       "      <td>0.971860</td>\n",
       "      <td>0.969159</td>\n",
       "      <td>0.971860</td>\n",
       "    </tr>\n",
       "    <tr>\n",
       "      <th>1</th>\n",
       "      <td>521</td>\n",
       "      <td>0.983144</td>\n",
       "      <td>0.982433</td>\n",
       "      <td>0.984415</td>\n",
       "      <td>0.982433</td>\n",
       "    </tr>\n",
       "    <tr>\n",
       "      <th>2</th>\n",
       "      <td>267</td>\n",
       "      <td>0.969903</td>\n",
       "      <td>0.972029</td>\n",
       "      <td>0.968182</td>\n",
       "      <td>0.972029</td>\n",
       "    </tr>\n",
       "    <tr>\n",
       "      <th>3</th>\n",
       "      <td>37</td>\n",
       "      <td>0.974888</td>\n",
       "      <td>0.975893</td>\n",
       "      <td>0.974436</td>\n",
       "      <td>0.975893</td>\n",
       "    </tr>\n",
       "    <tr>\n",
       "      <th>4</th>\n",
       "      <td>265</td>\n",
       "      <td>0.972951</td>\n",
       "      <td>0.973466</td>\n",
       "      <td>0.972665</td>\n",
       "      <td>0.973466</td>\n",
       "    </tr>\n",
       "  </tbody>\n",
       "</table>\n",
       "</div>"
      ],
      "text/plain": [
       "   userID        f1  accuracy  precision    recall\n",
       "0     586  0.970253  0.971860   0.969159  0.971860\n",
       "1     521  0.983144  0.982433   0.984415  0.982433\n",
       "2     267  0.969903  0.972029   0.968182  0.972029\n",
       "3      37  0.974888  0.975893   0.974436  0.975893\n",
       "4     265  0.972951  0.973466   0.972665  0.973466"
      ]
     },
     "execution_count": 52,
     "metadata": {},
     "output_type": "execute_result"
    }
   ],
   "source": [
    "recommender_metrics"
   ]
  },
  {
   "cell_type": "code",
   "execution_count": null,
   "id": "5d94254a",
   "metadata": {},
   "outputs": [],
   "source": [
    "dfi.export(recommender_metrics, 'recommender_metrics.png')"
   ]
  },
  {
   "cell_type": "code",
   "execution_count": 73,
   "id": "7f321759",
   "metadata": {},
   "outputs": [
    {
     "data": {
      "text/html": [
       "<div>\n",
       "<style scoped>\n",
       "    .dataframe tbody tr th:only-of-type {\n",
       "        vertical-align: middle;\n",
       "    }\n",
       "\n",
       "    .dataframe tbody tr th {\n",
       "        vertical-align: top;\n",
       "    }\n",
       "\n",
       "    .dataframe thead th {\n",
       "        text-align: right;\n",
       "    }\n",
       "</style>\n",
       "<table border=\"1\" class=\"dataframe\">\n",
       "  <thead>\n",
       "    <tr style=\"text-align: right;\">\n",
       "      <th></th>\n",
       "      <th>userID</th>\n",
       "      <th>f1</th>\n",
       "      <th>accuracy</th>\n",
       "      <th>precision</th>\n",
       "      <th>recall</th>\n",
       "    </tr>\n",
       "  </thead>\n",
       "  <tbody>\n",
       "    <tr>\n",
       "      <th>count</th>\n",
       "      <td>5.000000</td>\n",
       "      <td>5.000000</td>\n",
       "      <td>5.000000</td>\n",
       "      <td>5.000000</td>\n",
       "      <td>5.000000</td>\n",
       "    </tr>\n",
       "    <tr>\n",
       "      <th>mean</th>\n",
       "      <td>335.200000</td>\n",
       "      <td>0.974228</td>\n",
       "      <td>0.975136</td>\n",
       "      <td>0.973772</td>\n",
       "      <td>0.975136</td>\n",
       "    </tr>\n",
       "    <tr>\n",
       "      <th>std</th>\n",
       "      <td>221.316967</td>\n",
       "      <td>0.005387</td>\n",
       "      <td>0.004387</td>\n",
       "      <td>0.006471</td>\n",
       "      <td>0.004387</td>\n",
       "    </tr>\n",
       "    <tr>\n",
       "      <th>min</th>\n",
       "      <td>37.000000</td>\n",
       "      <td>0.969903</td>\n",
       "      <td>0.971860</td>\n",
       "      <td>0.968182</td>\n",
       "      <td>0.971860</td>\n",
       "    </tr>\n",
       "    <tr>\n",
       "      <th>25%</th>\n",
       "      <td>265.000000</td>\n",
       "      <td>0.970253</td>\n",
       "      <td>0.972029</td>\n",
       "      <td>0.969159</td>\n",
       "      <td>0.972029</td>\n",
       "    </tr>\n",
       "    <tr>\n",
       "      <th>50%</th>\n",
       "      <td>267.000000</td>\n",
       "      <td>0.972951</td>\n",
       "      <td>0.973466</td>\n",
       "      <td>0.972665</td>\n",
       "      <td>0.973466</td>\n",
       "    </tr>\n",
       "    <tr>\n",
       "      <th>75%</th>\n",
       "      <td>521.000000</td>\n",
       "      <td>0.974888</td>\n",
       "      <td>0.975893</td>\n",
       "      <td>0.974436</td>\n",
       "      <td>0.975893</td>\n",
       "    </tr>\n",
       "    <tr>\n",
       "      <th>max</th>\n",
       "      <td>586.000000</td>\n",
       "      <td>0.983144</td>\n",
       "      <td>0.982433</td>\n",
       "      <td>0.984415</td>\n",
       "      <td>0.982433</td>\n",
       "    </tr>\n",
       "  </tbody>\n",
       "</table>\n",
       "</div>"
      ],
      "text/plain": [
       "           userID        f1  accuracy  precision    recall\n",
       "count    5.000000  5.000000  5.000000   5.000000  5.000000\n",
       "mean   335.200000  0.974228  0.975136   0.973772  0.975136\n",
       "std    221.316967  0.005387  0.004387   0.006471  0.004387\n",
       "min     37.000000  0.969903  0.971860   0.968182  0.971860\n",
       "25%    265.000000  0.970253  0.972029   0.969159  0.972029\n",
       "50%    267.000000  0.972951  0.973466   0.972665  0.973466\n",
       "75%    521.000000  0.974888  0.975893   0.974436  0.975893\n",
       "max    586.000000  0.983144  0.982433   0.984415  0.982433"
      ]
     },
     "execution_count": 73,
     "metadata": {},
     "output_type": "execute_result"
    }
   ],
   "source": [
    "recommender_metrics.describe()"
   ]
  },
  {
   "cell_type": "markdown",
   "id": "b82b101b",
   "metadata": {},
   "source": [
    "### visualizations"
   ]
  },
  {
   "cell_type": "markdown",
   "id": "1e6aac16",
   "metadata": {},
   "source": [
    "#### cosine similarity matrix (based on user 225 - see kernels under testing !)"
   ]
  },
  {
   "cell_type": "code",
   "execution_count": 58,
   "id": "219f0406",
   "metadata": {},
   "outputs": [],
   "source": [
    "import matplotlib.pyplot as plt\n",
    "from matplotlib import cm"
   ]
  },
  {
   "cell_type": "code",
   "execution_count": 59,
   "id": "f3506f4d",
   "metadata": {},
   "outputs": [],
   "source": [
    "def plot_sim(df, attributes, fileName):\n",
    "    #make cosine similarity matrix\n",
    "    matrix = np.zeros([len(df),len(df)])\n",
    "    for i in df.index:\n",
    "        movie1 = df['IMDbID'][i]\n",
    "        for j in df.index:\n",
    "            movie2 = df['IMDbID'][j]\n",
    "            if movie1 != movie2:\n",
    "                sim, rmse = similarity(attributes, df, df, i, j)\n",
    "                matrix[i][j] = sim\n",
    "            else:\n",
    "                continue\n",
    "    \n",
    "    #plot cosine similarity matrix\n",
    "    labels = []\n",
    "    for i in df.index:\n",
    "        title = df['title'][i]\n",
    "        labels.append(title)\n",
    "\n",
    "    fig, ax = plt.subplots(figsize=(20,20))\n",
    "    cax = ax.matshow(matrix, interpolation='nearest', cmap=cmap)\n",
    "    ax.grid(True)\n",
    "    plt.title('Movie Similarity Matrix', fontsize=24)\n",
    "    plt.xticks(range(len(df)), labels, rotation = 90)\n",
    "    plt.yticks(range(len(df)), labels)\n",
    "    fig.colorbar(cax, ticks=[0.1, 0.2, 0.3, 0.4, 0.5, 0.6, 0.7, 0.8, 0.9, 1])\n",
    "    plt.savefig(fileName)\n",
    "    plt.show()"
   ]
  },
  {
   "cell_type": "code",
   "execution_count": 60,
   "id": "d7396bbf",
   "metadata": {},
   "outputs": [],
   "source": [
    "#merge user top and recommend for cosine similarity matrix\n",
    "recommend_ID = recommend.drop(['similarity','RMSE'],axis=1)\n",
    "user_recommend_appended = user_ratings_ids.append(recommend_ID)\n",
    "user_recommend = pd.merge(user_recommend_appended, imdb_tmdb_movieLens, on='IMDbID', how='inner')"
   ]
  },
  {
   "cell_type": "code",
   "execution_count": 61,
   "id": "0efe2c2c",
   "metadata": {},
   "outputs": [],
   "source": [
    "#color for similarity plot\n",
    "cmap = cm.get_cmap('gnuplot')"
   ]
  },
  {
   "cell_type": "code",
   "execution_count": 62,
   "id": "7038db1b",
   "metadata": {},
   "outputs": [
    {
     "data": {
      "image/png": "[encoded data removed]",
      "text/plain": [
       "<Figure size 1440x1440 with 2 Axes>"
      ]
     },
     "metadata": {
      "needs_background": "light"
     },
     "output_type": "display_data"
    }
   ],
   "source": [
    "#cosine similarity matrix of user's movies and recommended movies\n",
    "attributes = ['genres_binary','cast_binary','director_binary','keywords_binary']\n",
    "plot_sim(user_recommend, attributes, 'moviesim1.png')"
   ]
  },
  {
   "cell_type": "code",
   "execution_count": 63,
   "id": "84d2dfc5",
   "metadata": {},
   "outputs": [
    {
     "data": {
      "image/png": "[encoded data removed]",
      "text/plain": [
       "<Figure size 1440x1440 with 2 Axes>"
      ]
     },
     "metadata": {
      "needs_background": "light"
     },
     "output_type": "display_data"
    }
   ],
   "source": [
    "#similarity matrix of user's top n movies\n",
    "user_top_movies = pd.merge(user_ratings, imdb_tmdb_movieLens, on='IMDbID', how='inner')\n",
    "num = 50\n",
    "if len(user_top_movies) > num:\n",
    "    user_top_movies = user_top_movies.head(num)\n",
    "plot_sim(user_top_movies, attributes, 'moviesim2.png')"
   ]
  },
  {
   "cell_type": "markdown",
   "id": "bcb11fcc",
   "metadata": {},
   "source": [
    "#### word cloud"
   ]
  },
  {
   "cell_type": "code",
   "execution_count": 64,
   "id": "92c45f10",
   "metadata": {},
   "outputs": [],
   "source": [
    "from wordcloud import WordCloud"
   ]
  },
  {
   "cell_type": "code",
   "execution_count": 65,
   "id": "5127feb2",
   "metadata": {},
   "outputs": [],
   "source": [
    "#list of keywords\n",
    "keywords = []\n",
    "for i in imdb_tmdb_movieLens.index:\n",
    "    word_list = imdb_tmdb_movieLens['keywords'][i]\n",
    "    for word in word_list:\n",
    "        if word not in keywords:\n",
    "            keywords.append(word)\n",
    "keywords = sorted(keywords)"
   ]
  },
  {
   "cell_type": "code",
   "execution_count": 66,
   "id": "7d16fdd9",
   "metadata": {},
   "outputs": [],
   "source": [
    "#creating dictionary of keywords\n",
    "keyword_dict = {}\n",
    "i = 0\n",
    "for word in keywords:\n",
    "    keyword_dict[word] = 0"
   ]
  },
  {
   "cell_type": "code",
   "execution_count": 67,
   "id": "5f323712",
   "metadata": {},
   "outputs": [],
   "source": [
    "#filling dictionary with number of each keyword\n",
    "for i in imdb_tmdb_movieLens.index:\n",
    "    word_list = imdb_tmdb_movieLens['keywords'][i]\n",
    "    for word in word_list:\n",
    "        keyword_dict[word] += 1\n",
    "#delete null values ('')\n",
    "del keyword_dict['']"
   ]
  },
  {
   "cell_type": "code",
   "execution_count": 68,
   "id": "6dc4d64d",
   "metadata": {},
   "outputs": [
    {
     "data": {
      "image/png": "[encoded data removed]",
      "text/plain": [
       "<Figure size 432x288 with 1 Axes>"
      ]
     },
     "metadata": {
      "needs_background": "light"
     },
     "output_type": "display_data"
    }
   ],
   "source": [
    "#wordcloud!\n",
    "wordcloud_args = WordCloud(background_color='white', width=1600, height=800)\n",
    "wordcloud = wordcloud_args.generate_from_frequencies(keyword_dict)\n",
    "cloud = wordcloud.to_file('keywords.png')\n",
    "plt.imshow(wordcloud, interpolation='bilinear')\n",
    "plt.axis('off')\n",
    "plt.show()"
   ]
  },
  {
   "cell_type": "markdown",
   "id": "da0dc68a",
   "metadata": {},
   "source": [
    "#### histograms for genres, cast, and director"
   ]
  },
  {
   "cell_type": "code",
   "execution_count": 69,
   "id": "2ede7894",
   "metadata": {},
   "outputs": [],
   "source": [
    "import seaborn as sns"
   ]
  },
  {
   "cell_type": "code",
   "execution_count": 70,
   "id": "46c56fe6",
   "metadata": {},
   "outputs": [
    {
     "data": {
      "image/png": "[encoded data removed]",
      "text/plain": [
       "<Figure size 1080x720 with 1 Axes>"
      ]
     },
     "metadata": {
      "needs_background": "light"
     },
     "output_type": "display_data"
    }
   ],
   "source": [
    "plt.subplots(figsize=(15,10))\n",
    "list1 = []\n",
    "for i in imdb_tmdb_movieLens['genres']:\n",
    "    list1.extend(i)\n",
    "ax = pd.Series(list1).value_counts()[:10].sort_values(ascending=True).plot.barh(width=0.9,color=sns.color_palette('hls',10))\n",
    "for i, v in enumerate(pd.Series(list1).value_counts()[:10].sort_values(ascending=True).values): \n",
    "    ax.text(.8, i, v,fontsize=12,color='white',weight='bold')\n",
    "plt.title('Top Genres', fontsize=24)\n",
    "plt.savefig('top genres.png')\n",
    "plt.show()"
   ]
  },
  {
   "cell_type": "code",
   "execution_count": 71,
   "id": "a37cc402",
   "metadata": {},
   "outputs": [
    {
     "data": {
      "image/png": "[encoded data removed]",
      "text/plain": [
       "<Figure size 1080x720 with 1 Axes>"
      ]
     },
     "metadata": {
      "needs_background": "light"
     },
     "output_type": "display_data"
    }
   ],
   "source": [
    "plt.subplots(figsize=(15,10))\n",
    "list1 = []\n",
    "for i in imdb_tmdb_movieLens['cast']:\n",
    "    list1.extend(i)\n",
    "ax = pd.Series(list1).value_counts()[:10].sort_values(ascending=True).plot.barh(width=0.9,color=sns.color_palette('hls',10))\n",
    "for i, v in enumerate(pd.Series(list1).value_counts()[:10].sort_values(ascending=True).values): \n",
    "    ax.text(.8, i, v,fontsize=12,color='white',weight='bold')\n",
    "plt.title('Top Actors', fontsize=24)\n",
    "plt.savefig('top actors.png')\n",
    "plt.show()"
   ]
  },
  {
   "cell_type": "code",
   "execution_count": 72,
   "id": "d080a3a7",
   "metadata": {},
   "outputs": [
    {
     "data": {
      "image/png": "[encoded data removed]",
      "text/plain": [
       "<Figure size 1080x720 with 1 Axes>"
      ]
     },
     "metadata": {
      "needs_background": "light"
     },
     "output_type": "display_data"
    }
   ],
   "source": [
    "plt.subplots(figsize=(15,10))\n",
    "list1 = []\n",
    "for i in imdb_tmdb_movieLens['director']:\n",
    "    list1.extend(i)\n",
    "ax = pd.Series(list1).value_counts()[:10].sort_values(ascending=True).plot.barh(width=0.9,color=sns.color_palette('hls',10))\n",
    "for i, v in enumerate(pd.Series(list1).value_counts()[:10].sort_values(ascending=True).values): \n",
    "    ax.text(.8, i, v,fontsize=12,color='white',weight='bold')\n",
    "plt.title('Top Directors', fontsize=24)\n",
    "plt.savefig('top directors.png')\n",
    "plt.show()"
   ]
  },
  {
   "cell_type": "code",
   "execution_count": null,
   "id": "c39b9a03",
   "metadata": {},
   "outputs": [],
   "source": []
  }
 ],
 "metadata": {
  "kernelspec": {
   "display_name": "Python 3 (ipykernel)",
   "language": "python",
   "name": "python3"
  },
  "language_info": {
   "codemirror_mode": {
    "name": "ipython",
    "version": 3
   },
   "file_extension": ".py",
   "mimetype": "text/x-python",
   "name": "python",
   "nbconvert_exporter": "python",
   "pygments_lexer": "ipython3",
   "version": "3.9.7"
  }
 },
 "nbformat": 4,
 "nbformat_minor": 5
}
